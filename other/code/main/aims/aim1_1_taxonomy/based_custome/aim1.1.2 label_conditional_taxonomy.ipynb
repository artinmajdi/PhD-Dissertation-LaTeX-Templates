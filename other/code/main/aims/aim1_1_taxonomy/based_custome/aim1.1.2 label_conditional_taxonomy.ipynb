{
 "cells": [
  {
   "cell_type": "markdown",
   "metadata": {
    "pycharm": {
     "name": "#%% md\n"
    }
   },
   "source": [
    "<span style=\"font-family:PT Sans Narrow;\"> \n",
    "\n",
    "# <span style=\"color:orange; font-size:1.31em\"> Main Idea: </span>\n",
    "\n",
    "Train for 20% of chest data with typical loss function (e.g., cross entropy). Then look at the loss and probability values for parent and child classes. see if we can fit a function to them or if each of the above candidates would improve the accuracy. \n",
    "Also, to prove the claim that it works for all chest x-rays, we can repeat the same thing on other datasets like Stanford. \n",
    "\n",
    "- Fit for this:  $ p_{i} = g (q_{i} , q_{ancestor(i,j)}) $\n",
    "\n",
    "- Then use this: $ \\hat{q}_{i} = g (q_{i} , q_{ancestor(i,j)} )$\n",
    "\n",
    "- Loss would be: $f(x,y)=-p_{i} (x) * \\log⁡{\\hat{q}_{i} (x)} -  \\left(1 - p_{i}(x) \\right) * \\log{ \\left(1-\\hat{q}_{i} (x) \\right)}$\n",
    "\n",
    "### Procedure:\n",
    "\n",
    "- Take 30% of dataset for training \n",
    "- Train a network on all 30% (make sure it converges)\n",
    "- Take 20% of the instances’ output (predicted probabilities) to fit a function\n",
    "- Repeat the (3) for the aforementioned candidates.\n",
    "- Use the fitted function on the remaining 10% to make sure it’s not overfitted\n",
    "- Select the final candidate for fitting function\n",
    "- Apply the final fitting function on the whole training dataset during a full training of the dataset.\n",
    "\n",
    " </span>\n"
   ]
  },
  {
   "cell_type": "code",
   "execution_count": 1,
   "metadata": {
    "pycharm": {
     "name": "#%%\n"
    }
   },
   "outputs": [
    {
     "name": "stdout",
     "output_type": "stream",
     "text": [
      "Python 3.8.13\n"
     ]
    }
   ],
   "source": [
    "!python --version"
   ]
  },
  {
   "cell_type": "code",
   "execution_count": 1,
   "metadata": {
    "pycharm": {
     "name": "#%%\n"
    }
   },
   "outputs": [
    {
     "name": "stderr",
     "output_type": "stream",
     "text": [
      "/opt/homebrew/Caskroom/miniforge/base/envs/paper_miniforge_v2/lib/python3.8/site-packages/torchvision/transforms/functional_pil.py:207: DeprecationWarning: BILINEAR is deprecated and will be removed in Pillow 10 (2023-07-01). Use Resampling.BILINEAR instead.\n",
      "  def resize(img, size, interpolation=Image.BILINEAR):\n",
      "/opt/homebrew/Caskroom/miniforge/base/envs/paper_miniforge_v2/lib/python3.8/site-packages/torchvision/transforms/functional_pil.py:280: DeprecationWarning: BICUBIC is deprecated and will be removed in Pillow 10 (2023-07-01). Use Resampling.BICUBIC instead.\n",
      "  def perspective(img, perspective_coeffs, interpolation=Image.BICUBIC, fill=None):\n"
     ]
    },
    {
     "name": "stdout",
     "output_type": "stream",
     "text": [
      "Metal device set to: Apple M1\n",
      "\n",
      "systemMemory: 16.00 GB\n",
      "maxCacheSize: 5.33 GB\n",
      "\n"
     ]
    },
    {
     "name": "stderr",
     "output_type": "stream",
     "text": [
      "2022-11-03 18:26:48.140351: I tensorflow/core/common_runtime/pluggable_device/pluggable_device_factory.cc:305] Could not identify NUMA node of platform GPU ID 0, defaulting to 0. Your kernel may not have been built with NUMA support.\n",
      "2022-11-03 18:26:48.140596: I tensorflow/core/common_runtime/pluggable_device/pluggable_device_factory.cc:271] Created TensorFlow device (/job:localhost/replica:0/task:0/device:GPU:0 with 0 MB memory) -> physical PluggableDevice (device: 0, name: METAL, pci bus id: <undefined>)\n"
     ]
    }
   ],
   "source": [
    "%reload_ext autoreload\n",
    "%autoreload 2\n",
    "\n",
    "import tensorflow as tf\n",
    "from main.utils import funcs\n",
    "import pandas as pd\n",
    "import numpy as np\n",
    "import warnings\n",
    "\n",
    "\n",
    "# setup tensorflow to only use GPU memory as needed\n",
    "# physical_devices = tf.config.experimental.list_physical_devices('GPU')\n",
    "# for physical_device in physical_devices:\n",
    "#     tf.config.experimental.set_memory_growth(physical_device, True)\n",
    "\n",
    "warnings.filterwarnings('ignore')\n",
    "\n",
    "%reload_ext main.utils.funcs"
   ]
  },
  {
   "cell_type": "code",
   "execution_count": 3,
   "metadata": {
    "pycharm": {
     "name": "#%%\n"
    }
   },
   "outputs": [],
   "source": [
    "dataset = 'chexpert' # 'cifar100' , 'chexpert\n",
    "mode = 'train'"
   ]
  },
  {
   "cell_type": "markdown",
   "metadata": {
    "pycharm": {
     "name": "#%% md\n"
    }
   },
   "source": [
    "### <span style=\"font-family:PT Sans Narrow; font-size:1em\"> Setting up mlflow config  </span>"
   ]
  },
  {
   "cell_type": "code",
   "execution_count": 12,
   "metadata": {
    "pycharm": {
     "name": "#%%\n"
    }
   },
   "outputs": [
    {
     "name": "stdout",
     "output_type": "stream",
     "text": [
      "Connecting to the server...\n"
     ]
    },
    {
     "name": "stderr",
     "output_type": "stream",
     "text": [
      "\n",
      "\n",
      "\n",
      "\n",
      "************************************************\n",
      "Access is restricted to AUTHORIZED USERS only! If\n",
      "you are not authorized LEAVE NOW!\n",
      "************************************************\n",
      "\n",
      "\n",
      "\n",
      "bind [127.0.0.1]:5000: Address already in use\n",
      "channel_setup_fwd_listener_tcpip: cannot listen to port: 5000\n",
      "Could not request local forwarding.\n"
     ]
    },
    {
     "name": "stdout",
     "output_type": "stream",
     "text": [
      "Killing all active runs...\n",
      "Setting up the experiment...\n",
      "setting the tracking URI\n",
      "setting/creating the experiment\n",
      "Running the session...\n"
     ]
    },
    {
     "name": "stderr",
     "output_type": "stream",
     "text": [
      "client_loop: send disconnect: Broken pipe\n",
      "client_loop: send disconnect: Broken pipe\n",
      "client_loop: send disconnect: Broken pipe\n"
     ]
    }
   ],
   "source": [
    "aim1_1 = funcs.AIM1_1(run_mlflow=True, experiment_name='label_inter_dependence', run_name=dataset, new_run=True, dataset=dataset)"
   ]
  },
  {
   "cell_type": "code",
   "execution_count": 9,
   "metadata": {
    "pycharm": {
     "name": "#%%\n"
    }
   },
   "outputs": [
    {
     "name": "stdout",
     "output_type": "stream",
     "text": [
      "MLFlow UI is already running on localhost:6789\n"
     ]
    },
    {
     "name": "stderr",
     "output_type": "stream",
     "text": [
      "Connection to localhost port 6789 [tcp/smc-https] succeeded!\n"
     ]
    }
   ],
   "source": [
    "p = aim1_1.mlflow_ui(VIEW_PORT=6789)"
   ]
  },
  {
   "cell_type": "markdown",
   "metadata": {
    "pycharm": {
     "name": "#%% md\n"
    }
   },
   "source": [
    "### <span style=\"font-family:PT Sans Narrow; font-size:1em\"> Getting the parent info  </span>"
   ]
  },
  {
   "cell_type": "code",
   "execution_count": 5,
   "metadata": {
    "pycharm": {
     "name": "#%%\n"
    }
   },
   "outputs": [
    {
     "name": "stdout",
     "output_type": "stream",
     "text": [
      "1000\n"
     ]
    }
   ],
   "source": [
    "print(aim1_1.max_sample)"
   ]
  },
  {
   "cell_type": "markdown",
   "metadata": {
    "pycharm": {
     "name": "#%% md\n"
    }
   },
   "source": [
    "### <span style=\"font-family:PT Sans Narrow; font-size:1em\"> Loading the data  </span>"
   ]
  },
  {
   "cell_type": "code",
   "execution_count": 6,
   "metadata": {
    "pycharm": {
     "name": "#%%\n"
    }
   },
   "outputs": [
    {
     "name": "stdout",
     "output_type": "stream",
     "text": [
      "before sample-pruning\n",
      "train: (223414, 19)\n",
      "test: (234, 19)\n",
      "\n",
      "after sample-pruning\n",
      "train (certain): (86920, 20)\n",
      "train (uncertain): (52940, 20)\n",
      "valid: (21730, 20)\n",
      "test: (169, 20) \n",
      "\n",
      "Found 86920 validated image filenames.\n",
      "Found 21730 validated image filenames.\n"
     ]
    }
   ],
   "source": [
    "dir = '/Users/personal-macbook/Documents/PhD/dataset/chexpert/'\n",
    "data_loader = aim1_1.get_data(dataset=dataset , data_mode=mode, max_sample=100000000, site='local', dir=dir) "
   ]
  },
  {
   "cell_type": "code",
   "execution_count": 7,
   "metadata": {
    "pycharm": {
     "name": "#%%\n"
    }
   },
   "outputs": [
    {
     "data": {
      "text/plain": [
       "(128, 224, 224, 3)"
      ]
     },
     "execution_count": 7,
     "metadata": {},
     "output_type": "execute_result"
    }
   ],
   "source": [
    "# data_loader.coarse_fine_label_map_df['ids']\n",
    "next(data_loader.generators['valid'])[0].shape"
   ]
  },
  {
   "cell_type": "markdown",
   "metadata": {
    "pycharm": {
     "name": "#%% md\n"
    }
   },
   "source": [
    "### <span style=\"font-family:PT Sans Narrow; font-size:1em\"> Getting the optimized model from server  </span>"
   ]
  },
  {
   "cell_type": "code",
   "execution_count": 8,
   "metadata": {
    "pycharm": {
     "name": "#%%\n"
    }
   },
   "outputs": [
    {
     "name": "stderr",
     "output_type": "stream",
     "text": [
      "2022-10-30 20:45:13.776718: W tensorflow/core/util/tensor_slice_reader.cc:96] Could not open /Users/personal-macbook/Documents/PhD/code/my_main_code/my_main_code/pre_trained_models/efficient_b0_model_freeze_best.pth: DATA_LOSS: not an sstable (bad magic number): perhaps your file is in a different file format and you need to use a different restore operator?\n"
     ]
    },
    {
     "ename": "OSError",
     "evalue": "Unable to open file (file signature not found)",
     "output_type": "error",
     "traceback": [
      "\u001b[0;31m---------------------------------------------------------------------------\u001b[0m",
      "\u001b[0;31mOSError\u001b[0m                                   Traceback (most recent call last)",
      "\u001b[1;32m/Users/personal-macbook/Documents/PhD/code/my_main_code/my_main_code/aims/aim1_1_taxonomy/aim1.1.2 label_conditional_taxonomy.ipynb Cell 14\u001b[0m in \u001b[0;36m<cell line: 2>\u001b[0;34m()\u001b[0m\n\u001b[1;32m      <a href='vscode-notebook-cell:/Users/personal-macbook/Documents/PhD/code/my_main_code/my_main_code/aims/aim1_1_taxonomy/aim1.1.2%20label_conditional_taxonomy.ipynb#X16sZmlsZQ%3D%3D?line=0'>1</a>\u001b[0m weights \u001b[39m=\u001b[39m \u001b[39m'\u001b[39m\u001b[39m/Users/personal-macbook/Documents/PhD/code/my_main_code/my_main_code/pre_trained_models/efficient_b0_model_freeze_best.pth\u001b[39m\u001b[39m'\u001b[39m\n\u001b[0;32m----> <a href='vscode-notebook-cell:/Users/personal-macbook/Documents/PhD/code/my_main_code/my_main_code/aims/aim1_1_taxonomy/aim1.1.2%20label_conditional_taxonomy.ipynb#X16sZmlsZQ%3D%3D?line=1'>2</a>\u001b[0m model \u001b[39m=\u001b[39m aim1_1\u001b[39m.\u001b[39;49mget_model(data_loader\u001b[39m=\u001b[39;49mdata_loader, optimize_model\u001b[39m=\u001b[39;49m\u001b[39mTrue\u001b[39;49;00m, epochs\u001b[39m=\u001b[39;49m\u001b[39m30\u001b[39;49m, architecture_name\u001b[39m=\u001b[39;49m\u001b[39m'\u001b[39;49m\u001b[39mEfficientNetB0\u001b[39;49m\u001b[39m'\u001b[39;49m , weights\u001b[39m=\u001b[39;49mweights, num_classes\u001b[39m=\u001b[39;49m\u001b[39m14\u001b[39;49m)\n",
      "File \u001b[0;32m~/Documents/PhD/code/my_main_code/my_main_code/utils/funcs.py:643\u001b[0m, in \u001b[0;36mAIM1_1.get_model\u001b[0;34m(self, data_loader, optimize_model, dir, epochs, architecture_name, weights, num_classes)\u001b[0m\n\u001b[1;32m    640\u001b[0m     mlflow\u001b[39m.\u001b[39mkeras\u001b[39m.\u001b[39mautolog()\n\u001b[1;32m    641\u001b[0m     \u001b[39m# IMPORTANT NOTE: even though sigmoid usually is used for binary, and softmax is used for multi class. but that multiclass means that we have multople calsses, but only one\u001b[39;00m\n\u001b[1;32m    642\u001b[0m     \u001b[39m# of them can happen at each instant. But in our case, we can have more than one class in each instance, which means we  need to use sogmoid.\u001b[39;00m\n\u001b[0;32m--> 643\u001b[0m     \u001b[39mself\u001b[39m\u001b[39m.\u001b[39mmodel, \u001b[39mself\u001b[39m\u001b[39m.\u001b[39mhistory \u001b[39m=\u001b[39m optimize(\u001b[39mdir\u001b[39;49m\u001b[39m=\u001b[39;49m\u001b[39mdir\u001b[39;49m, data_loader\u001b[39m=\u001b[39;49mdata_loader, epochs\u001b[39m=\u001b[39;49mepochs, architecture_name\u001b[39m=\u001b[39;49marchitecture_name, activation\u001b[39m=\u001b[39;49m\u001b[39m'\u001b[39;49m\u001b[39msigmoid\u001b[39;49m\u001b[39m'\u001b[39;49m, first_index_trainable\u001b[39m=\u001b[39;49m\u001b[39m-\u001b[39;49m\u001b[39m10\u001b[39;49m, use_multiprocessing\u001b[39m=\u001b[39;49m\u001b[39mTrue\u001b[39;49;00m , model_metrics\u001b[39m=\u001b[39;49m\u001b[39mself\u001b[39;49m\u001b[39m.\u001b[39;49mmodel_metrics, weights\u001b[39m=\u001b[39;49mweights, num_classes\u001b[39m=\u001b[39;49mnum_classes)\n\u001b[1;32m    645\u001b[0m \u001b[39melse\u001b[39;00m:   \u001b[39m# Downloading the Model\u001b[39;00m\n\u001b[1;32m    646\u001b[0m     \u001b[39massert\u001b[39;00m \u001b[39mself\u001b[39m\u001b[39m.\u001b[39mnew_run \u001b[39mis\u001b[39;00m \u001b[39mFalse\u001b[39;00m, \u001b[39m'\u001b[39m\u001b[39m\"\u001b[39m\u001b[39moptimize_model\u001b[39m\u001b[39m\"\u001b[39m\u001b[39m can not be False if \u001b[39m\u001b[39m\"\u001b[39m\u001b[39mnew_run\u001b[39m\u001b[39m\"\u001b[39m\u001b[39m is set to True\u001b[39m\u001b[39m'\u001b[39m\n",
      "File \u001b[0;32m~/Documents/PhD/code/my_main_code/my_main_code/utils/funcs.py:473\u001b[0m, in \u001b[0;36moptimize\u001b[0;34m(dir, data_loader, epochs, architecture_name, activation, first_index_trainable, use_multiprocessing, model_metrics, weights, num_classes)\u001b[0m\n\u001b[1;32m    470\u001b[0m \u001b[39mdef\u001b[39;00m \u001b[39moptimize\u001b[39m(\u001b[39mdir\u001b[39m, data_loader, epochs, architecture_name\u001b[39m=\u001b[39m\u001b[39m'\u001b[39m\u001b[39mDenseNet121\u001b[39m\u001b[39m'\u001b[39m, activation\u001b[39m=\u001b[39m\u001b[39m'\u001b[39m\u001b[39msigmoid\u001b[39m\u001b[39m'\u001b[39m, first_index_trainable\u001b[39m=\u001b[39m\u001b[39mNone\u001b[39;00m, use_multiprocessing\u001b[39m=\u001b[39m\u001b[39mTrue\u001b[39;00m , model_metrics\u001b[39m=\u001b[39m[tf\u001b[39m.\u001b[39mkeras\u001b[39m.\u001b[39mmetrics\u001b[39m.\u001b[39mbinary_accuracy] , weights\u001b[39m=\u001b[39m\u001b[39m'\u001b[39m\u001b[39mimagenet\u001b[39m\u001b[39m'\u001b[39m, num_classes\u001b[39m=\u001b[39m\u001b[39m0\u001b[39m):\n\u001b[1;32m    471\u001b[0m \n\u001b[1;32m    472\u001b[0m     \u001b[39m# architecture\u001b[39;00m\n\u001b[0;32m--> 473\u001b[0m     model \u001b[39m=\u001b[39m architecture( architecture_name    \u001b[39m=\u001b[39;49m architecture_name,\n\u001b[1;32m    474\u001b[0m                                         input_shape             \u001b[39m=\u001b[39;49m \u001b[39mlist\u001b[39;49m(data_loader\u001b[39m.\u001b[39;49mtarget_size) \u001b[39m+\u001b[39;49m [\u001b[39m3\u001b[39;49m] ,\n\u001b[1;32m    475\u001b[0m                                         num_classes            \u001b[39m=\u001b[39;49m num_classes,\n\u001b[1;32m    476\u001b[0m                                         activation                  \u001b[39m=\u001b[39;49m activation,\n\u001b[1;32m    477\u001b[0m                                         first_index_trainable \u001b[39m=\u001b[39;49m first_index_trainable,\n\u001b[1;32m    478\u001b[0m                                         weights\u001b[39m=\u001b[39;49mweights)\n\u001b[1;32m    480\u001b[0m     model\u001b[39m.\u001b[39mcompile(optimizer\u001b[39m=\u001b[39m tf\u001b[39m.\u001b[39mkeras\u001b[39m.\u001b[39moptimizers\u001b[39m.\u001b[39mAdam(learning_rate\u001b[39m=\u001b[39m\u001b[39m0.001\u001b[39m),\n\u001b[1;32m    481\u001b[0m                             loss\u001b[39m=\u001b[39mweighted_bce_loss(data_loader\u001b[39m.\u001b[39mclass_weights),  \u001b[39m# tf.keras.losses.categorical_crossentropy, #\u001b[39;00m\n\u001b[1;32m    482\u001b[0m                             metrics\u001b[39m=\u001b[39mmodel_metrics)  \u001b[39m# [tf.keras.metrics.binary_accuracy] )\u001b[39;00m\n\u001b[1;32m    485\u001b[0m     \u001b[39m# optimization\u001b[39;00m\n",
      "File \u001b[0;32m~/Documents/PhD/code/my_main_code/my_main_code/utils/funcs.py:430\u001b[0m, in \u001b[0;36marchitecture\u001b[0;34m(architecture_name, input_shape, num_classes, activation, first_index_trainable, weights)\u001b[0m\n\u001b[1;32m    426\u001b[0m     \u001b[39melif\u001b[39;00m architecture_name \u001b[39m==\u001b[39m \u001b[39m'\u001b[39m\u001b[39mEfficientNetB6\u001b[39m\u001b[39m'\u001b[39m:  model_architecture \u001b[39m=\u001b[39m tf\u001b[39m.\u001b[39mkeras\u001b[39m.\u001b[39mapplications\u001b[39m.\u001b[39mEfficientNetB6\n\u001b[1;32m    427\u001b[0m     \u001b[39melif\u001b[39;00m architecture_name \u001b[39m==\u001b[39m \u001b[39m'\u001b[39m\u001b[39mEfficientNetB7\u001b[39m\u001b[39m'\u001b[39m:  model_architecture \u001b[39m=\u001b[39m tf\u001b[39m.\u001b[39mkeras\u001b[39m.\u001b[39mapplications\u001b[39m.\u001b[39mEfficientNetB7\n\u001b[0;32m--> 430\u001b[0m model \u001b[39m=\u001b[39m model_architecture( weights\u001b[39m=\u001b[39;49mweights,  include_top\u001b[39m=\u001b[39;49minclude_top, input_tensor\u001b[39m=\u001b[39;49minput_tensor,  input_shape\u001b[39m=\u001b[39;49minput_shape,  pooling\u001b[39m=\u001b[39;49mpooling) \u001b[39m# ,classes=num_classes\u001b[39;00m\n\u001b[1;32m    432\u001b[0m \u001b[39massert\u001b[39;00m (first_index_trainable \u001b[39m<\u001b[39m \u001b[39m0\u001b[39m) \u001b[39mor\u001b[39;00m (first_index_trainable \u001b[39mis\u001b[39;00m \u001b[39mNone\u001b[39;00m), \u001b[39m'\u001b[39m\u001b[39mfirst_index_trainable must be negative\u001b[39m\u001b[39m'\u001b[39m\n\u001b[1;32m    434\u001b[0m \u001b[39mif\u001b[39;00m first_index_trainable:\n",
      "File \u001b[0;32m/opt/homebrew/Caskroom/miniforge/base/envs/paper_miniforge_v2/lib/python3.8/site-packages/keras/applications/efficientnet.py:536\u001b[0m, in \u001b[0;36mEfficientNetB0\u001b[0;34m(include_top, weights, input_tensor, input_shape, pooling, classes, classifier_activation, **kwargs)\u001b[0m\n\u001b[1;32m    526\u001b[0m \u001b[39m@keras_export\u001b[39m(\u001b[39m'\u001b[39m\u001b[39mkeras.applications.efficientnet.EfficientNetB0\u001b[39m\u001b[39m'\u001b[39m,\n\u001b[1;32m    527\u001b[0m               \u001b[39m'\u001b[39m\u001b[39mkeras.applications.EfficientNetB0\u001b[39m\u001b[39m'\u001b[39m)\n\u001b[1;32m    528\u001b[0m \u001b[39mdef\u001b[39;00m \u001b[39mEfficientNetB0\u001b[39m(include_top\u001b[39m=\u001b[39m\u001b[39mTrue\u001b[39;00m,\n\u001b[0;32m   (...)\u001b[0m\n\u001b[1;32m    534\u001b[0m                    classifier_activation\u001b[39m=\u001b[39m\u001b[39m'\u001b[39m\u001b[39msoftmax\u001b[39m\u001b[39m'\u001b[39m,\n\u001b[1;32m    535\u001b[0m                    \u001b[39m*\u001b[39m\u001b[39m*\u001b[39mkwargs):\n\u001b[0;32m--> 536\u001b[0m   \u001b[39mreturn\u001b[39;00m EfficientNet(\n\u001b[1;32m    537\u001b[0m       \u001b[39m1.0\u001b[39;49m,\n\u001b[1;32m    538\u001b[0m       \u001b[39m1.0\u001b[39;49m,\n\u001b[1;32m    539\u001b[0m       \u001b[39m224\u001b[39;49m,\n\u001b[1;32m    540\u001b[0m       \u001b[39m0.2\u001b[39;49m,\n\u001b[1;32m    541\u001b[0m       model_name\u001b[39m=\u001b[39;49m\u001b[39m'\u001b[39;49m\u001b[39mefficientnetb0\u001b[39;49m\u001b[39m'\u001b[39;49m,\n\u001b[1;32m    542\u001b[0m       include_top\u001b[39m=\u001b[39;49minclude_top,\n\u001b[1;32m    543\u001b[0m       weights\u001b[39m=\u001b[39;49mweights,\n\u001b[1;32m    544\u001b[0m       input_tensor\u001b[39m=\u001b[39;49minput_tensor,\n\u001b[1;32m    545\u001b[0m       input_shape\u001b[39m=\u001b[39;49minput_shape,\n\u001b[1;32m    546\u001b[0m       pooling\u001b[39m=\u001b[39;49mpooling,\n\u001b[1;32m    547\u001b[0m       classes\u001b[39m=\u001b[39;49mclasses,\n\u001b[1;32m    548\u001b[0m       classifier_activation\u001b[39m=\u001b[39;49mclassifier_activation,\n\u001b[1;32m    549\u001b[0m       \u001b[39m*\u001b[39;49m\u001b[39m*\u001b[39;49mkwargs)\n",
      "File \u001b[0;32m/opt/homebrew/Caskroom/miniforge/base/envs/paper_miniforge_v2/lib/python3.8/site-packages/keras/applications/efficientnet.py:414\u001b[0m, in \u001b[0;36mEfficientNet\u001b[0;34m(width_coefficient, depth_coefficient, default_size, dropout_rate, drop_connect_rate, depth_divisor, activation, blocks_args, model_name, include_top, weights, input_tensor, input_shape, pooling, classes, classifier_activation)\u001b[0m\n\u001b[1;32m    412\u001b[0m   model\u001b[39m.\u001b[39mload_weights(weights_path)\n\u001b[1;32m    413\u001b[0m \u001b[39melif\u001b[39;00m weights \u001b[39mis\u001b[39;00m \u001b[39mnot\u001b[39;00m \u001b[39mNone\u001b[39;00m:\n\u001b[0;32m--> 414\u001b[0m   model\u001b[39m.\u001b[39;49mload_weights(weights)\n\u001b[1;32m    415\u001b[0m \u001b[39mreturn\u001b[39;00m model\n",
      "File \u001b[0;32m/opt/homebrew/Caskroom/miniforge/base/envs/paper_miniforge_v2/lib/python3.8/site-packages/keras/utils/traceback_utils.py:67\u001b[0m, in \u001b[0;36mfilter_traceback.<locals>.error_handler\u001b[0;34m(*args, **kwargs)\u001b[0m\n\u001b[1;32m     65\u001b[0m \u001b[39mexcept\u001b[39;00m \u001b[39mException\u001b[39;00m \u001b[39mas\u001b[39;00m e:  \u001b[39m# pylint: disable=broad-except\u001b[39;00m\n\u001b[1;32m     66\u001b[0m   filtered_tb \u001b[39m=\u001b[39m _process_traceback_frames(e\u001b[39m.\u001b[39m__traceback__)\n\u001b[0;32m---> 67\u001b[0m   \u001b[39mraise\u001b[39;00m e\u001b[39m.\u001b[39mwith_traceback(filtered_tb) \u001b[39mfrom\u001b[39;00m \u001b[39mNone\u001b[39m\n\u001b[1;32m     68\u001b[0m \u001b[39mfinally\u001b[39;00m:\n\u001b[1;32m     69\u001b[0m   \u001b[39mdel\u001b[39;00m filtered_tb\n",
      "File \u001b[0;32m/opt/homebrew/Caskroom/miniforge/base/envs/paper_miniforge_v2/lib/python3.8/site-packages/h5py/_hl/files.py:507\u001b[0m, in \u001b[0;36mFile.__init__\u001b[0;34m(self, name, mode, driver, libver, userblock_size, swmr, rdcc_nslots, rdcc_nbytes, rdcc_w0, track_order, fs_strategy, fs_persist, fs_threshold, fs_page_size, page_buf_size, min_meta_keep, min_raw_keep, locking, **kwds)\u001b[0m\n\u001b[1;32m    502\u001b[0m     fapl \u001b[39m=\u001b[39m make_fapl(driver, libver, rdcc_nslots, rdcc_nbytes, rdcc_w0,\n\u001b[1;32m    503\u001b[0m                      locking, page_buf_size, min_meta_keep, min_raw_keep, \u001b[39m*\u001b[39m\u001b[39m*\u001b[39mkwds)\n\u001b[1;32m    504\u001b[0m     fcpl \u001b[39m=\u001b[39m make_fcpl(track_order\u001b[39m=\u001b[39mtrack_order, fs_strategy\u001b[39m=\u001b[39mfs_strategy,\n\u001b[1;32m    505\u001b[0m                      fs_persist\u001b[39m=\u001b[39mfs_persist, fs_threshold\u001b[39m=\u001b[39mfs_threshold,\n\u001b[1;32m    506\u001b[0m                      fs_page_size\u001b[39m=\u001b[39mfs_page_size)\n\u001b[0;32m--> 507\u001b[0m     fid \u001b[39m=\u001b[39m make_fid(name, mode, userblock_size, fapl, fcpl, swmr\u001b[39m=\u001b[39mswmr)\n\u001b[1;32m    509\u001b[0m \u001b[39mif\u001b[39;00m \u001b[39misinstance\u001b[39m(libver, \u001b[39mtuple\u001b[39m):\n\u001b[1;32m    510\u001b[0m     \u001b[39mself\u001b[39m\u001b[39m.\u001b[39m_libver \u001b[39m=\u001b[39m libver\n",
      "File \u001b[0;32m/opt/homebrew/Caskroom/miniforge/base/envs/paper_miniforge_v2/lib/python3.8/site-packages/h5py/_hl/files.py:220\u001b[0m, in \u001b[0;36mmake_fid\u001b[0;34m(name, mode, userblock_size, fapl, fcpl, swmr)\u001b[0m\n\u001b[1;32m    218\u001b[0m     \u001b[39mif\u001b[39;00m swmr \u001b[39mand\u001b[39;00m swmr_support:\n\u001b[1;32m    219\u001b[0m         flags \u001b[39m|\u001b[39m\u001b[39m=\u001b[39m h5f\u001b[39m.\u001b[39mACC_SWMR_READ\n\u001b[0;32m--> 220\u001b[0m     fid \u001b[39m=\u001b[39m h5f\u001b[39m.\u001b[39;49mopen(name, flags, fapl\u001b[39m=\u001b[39;49mfapl)\n\u001b[1;32m    221\u001b[0m \u001b[39melif\u001b[39;00m mode \u001b[39m==\u001b[39m \u001b[39m'\u001b[39m\u001b[39mr+\u001b[39m\u001b[39m'\u001b[39m:\n\u001b[1;32m    222\u001b[0m     fid \u001b[39m=\u001b[39m h5f\u001b[39m.\u001b[39mopen(name, h5f\u001b[39m.\u001b[39mACC_RDWR, fapl\u001b[39m=\u001b[39mfapl)\n",
      "File \u001b[0;32mh5py/_objects.pyx:54\u001b[0m, in \u001b[0;36mh5py._objects.with_phil.wrapper\u001b[0;34m()\u001b[0m\n",
      "File \u001b[0;32mh5py/_objects.pyx:55\u001b[0m, in \u001b[0;36mh5py._objects.with_phil.wrapper\u001b[0;34m()\u001b[0m\n",
      "File \u001b[0;32mh5py/h5f.pyx:106\u001b[0m, in \u001b[0;36mh5py.h5f.open\u001b[0;34m()\u001b[0m\n",
      "\u001b[0;31mOSError\u001b[0m: Unable to open file (file signature not found)"
     ]
    }
   ],
   "source": [
    "weights = '/Users/personal-macbook/Documents/PhD/code/my_main_code/main/pre_trained_models/efficient_b0_model_freeze_best.pth'\n",
    "model = aim1_1.get_model(data_loader=data_loader, optimize_model=True, epochs=30, architecture_name='EfficientNetB0' , weights=weights, num_classes=14)"
   ]
  },
  {
   "cell_type": "code",
   "execution_count": 20,
   "metadata": {
    "pycharm": {
     "name": "#%%\n"
    }
   },
   "outputs": [
    {
     "data": {
      "text/plain": [
       "array([[0, 0, 0, ..., 0, 0, 0],\n",
       "       [0, 0, 0, ..., 0, 0, 0],\n",
       "       [0, 0, 0, ..., 0, 0, 0],\n",
       "       ...,\n",
       "       [0, 0, 0, ..., 0, 0, 0],\n",
       "       [0, 0, 0, ..., 0, 0, 0],\n",
       "       [0, 0, 0, ..., 0, 0, 0]])"
      ]
     },
     "execution_count": 20,
     "metadata": {},
     "output_type": "execute_result"
    }
   ],
   "source": [
    "next( data_loader.generators['train_with_augments']  )[1]"
   ]
  },
  {
   "cell_type": "markdown",
   "metadata": {
    "pycharm": {
     "name": "#%% md\n"
    }
   },
   "source": [
    "### <span style=\"font-family:PT Sans Narrow; font-size:1em\"> Getting the optimization values </span>"
   ]
  },
  {
   "cell_type": "code",
   "execution_count": 21,
   "metadata": {
    "pycharm": {
     "name": "#%%\n"
    }
   },
   "outputs": [
    {
     "data": {
      "text/html": [
       "<div>\n",
       "<style scoped>\n",
       "    .dataframe tbody tr th:only-of-type {\n",
       "        vertical-align: middle;\n",
       "    }\n",
       "\n",
       "    .dataframe tbody tr th {\n",
       "        vertical-align: top;\n",
       "    }\n",
       "\n",
       "    .dataframe thead th {\n",
       "        text-align: right;\n",
       "    }\n",
       "</style>\n",
       "<table border=\"1\" class=\"dataframe\">\n",
       "  <thead>\n",
       "    <tr style=\"text-align: right;\">\n",
       "      <th></th>\n",
       "      <th>loss_avg</th>\n",
       "      <th>acc</th>\n",
       "      <th>pred</th>\n",
       "      <th>pred_binary</th>\n",
       "      <th>truth</th>\n",
       "      <th>loss</th>\n",
       "    </tr>\n",
       "  </thead>\n",
       "  <tbody>\n",
       "    <tr>\n",
       "      <th>0</th>\n",
       "      <td>0.101001</td>\n",
       "      <td>[0.0, 0.0]</td>\n",
       "      <td>[0.042432427, 0.0053589987, 0.00010218861, 0.0...</td>\n",
       "      <td>[False, False, False, False, False, False, Fal...</td>\n",
       "      <td>[False, False, False, False, False, False, Fal...</td>\n",
       "      <td>[0.043358862, 0.005373285, 0.00010204836, 0.04...</td>\n",
       "    </tr>\n",
       "    <tr>\n",
       "      <th>1</th>\n",
       "      <td>0.030085</td>\n",
       "      <td>[1.0, 1.0]</td>\n",
       "      <td>[0.0014294072, 0.016350685, 0.082793, 0.000565...</td>\n",
       "      <td>[False, False, False, False, False, False, Fal...</td>\n",
       "      <td>[False, False, False, False, False, False, Fal...</td>\n",
       "      <td>[0.0014302821, 0.016485713, 0.08642196, 0.0005...</td>\n",
       "    </tr>\n",
       "    <tr>\n",
       "      <th>2</th>\n",
       "      <td>0.071144</td>\n",
       "      <td>[0.0, 0.0]</td>\n",
       "      <td>[0.1702439, 0.018769003, 0.0022778984, 0.00211...</td>\n",
       "      <td>[False, False, False, False, False, False, Fal...</td>\n",
       "      <td>[True, False, False, False, False, False, Fals...</td>\n",
       "      <td>[1.7705226, 0.018947277, 0.0022803897, 0.00211...</td>\n",
       "    </tr>\n",
       "    <tr>\n",
       "      <th>3</th>\n",
       "      <td>0.070066</td>\n",
       "      <td>[0.0, 0.0]</td>\n",
       "      <td>[0.53047, 0.026757104, 0.0022328799, 0.0453493...</td>\n",
       "      <td>[True, False, False, False, False, False, Fals...</td>\n",
       "      <td>[False, False, False, False, True, False, Fals...</td>\n",
       "      <td>[0.75602293, 0.027121486, 0.0022352864, 0.0464...</td>\n",
       "    </tr>\n",
       "    <tr>\n",
       "      <th>4</th>\n",
       "      <td>0.008137</td>\n",
       "      <td>[1.0, 1.0]</td>\n",
       "      <td>[0.0017710548, 0.020554377, 0.00029985755, 0.0...</td>\n",
       "      <td>[False, False, False, False, False, False, Fal...</td>\n",
       "      <td>[False, False, False, False, False, False, Fal...</td>\n",
       "      <td>[0.0017724836, 0.020768423, 0.0002997967, 0.03...</td>\n",
       "    </tr>\n",
       "  </tbody>\n",
       "</table>\n",
       "</div>"
      ],
      "text/plain": [
       "   loss_avg         acc                                               pred  \\\n",
       "0  0.101001  [0.0, 0.0]  [0.042432427, 0.0053589987, 0.00010218861, 0.0...   \n",
       "1  0.030085  [1.0, 1.0]  [0.0014294072, 0.016350685, 0.082793, 0.000565...   \n",
       "2  0.071144  [0.0, 0.0]  [0.1702439, 0.018769003, 0.0022778984, 0.00211...   \n",
       "3  0.070066  [0.0, 0.0]  [0.53047, 0.026757104, 0.0022328799, 0.0453493...   \n",
       "4  0.008137  [1.0, 1.0]  [0.0017710548, 0.020554377, 0.00029985755, 0.0...   \n",
       "\n",
       "                                         pred_binary  \\\n",
       "0  [False, False, False, False, False, False, Fal...   \n",
       "1  [False, False, False, False, False, False, Fal...   \n",
       "2  [False, False, False, False, False, False, Fal...   \n",
       "3  [True, False, False, False, False, False, Fals...   \n",
       "4  [False, False, False, False, False, False, Fal...   \n",
       "\n",
       "                                               truth  \\\n",
       "0  [False, False, False, False, False, False, Fal...   \n",
       "1  [False, False, False, False, False, False, Fal...   \n",
       "2  [True, False, False, False, False, False, Fals...   \n",
       "3  [False, False, False, False, True, False, Fals...   \n",
       "4  [False, False, False, False, False, False, Fal...   \n",
       "\n",
       "                                                loss  \n",
       "0  [0.043358862, 0.005373285, 0.00010204836, 0.04...  \n",
       "1  [0.0014302821, 0.016485713, 0.08642196, 0.0005...  \n",
       "2  [1.7705226, 0.018947277, 0.0022803897, 0.00211...  \n",
       "3  [0.75602293, 0.027121486, 0.0022352864, 0.0464...  \n",
       "4  [0.0017724836, 0.020768423, 0.0002997967, 0.03...  "
      ]
     },
     "execution_count": 21,
     "metadata": {},
     "output_type": "execute_result"
    }
   ],
   "source": [
    "if dataset == 'chexpert':\n",
    "    x,y = next(data_loader.generators['test'])\n",
    "    \n",
    "elif dataset =='cifar100':\n",
    "    x,y = np.array( data_loader.dataframes['test'].data.to_list())  ,  np.array( data_loader.dataframes['test'].labels.to_list()) \n",
    "\n",
    "\n",
    "df_score = aim1_1.get_optimization_values(x=x ,y=y , labels=data_loader.label_names )\n",
    "\n",
    "df_score.head()"
   ]
  },
  {
   "cell_type": "markdown",
   "metadata": {
    "pycharm": {
     "name": "#%% md\n"
    }
   },
   "source": [
    "### <span style=\"font-family:PT Sans Narrow; font-size:1em\">  Measuring updated results for all proposed techniques </span>"
   ]
  },
  {
   "cell_type": "code",
   "execution_count": 22,
   "metadata": {
    "pycharm": {
     "name": "#%%\n"
    }
   },
   "outputs": [
    {
     "name": "stdout",
     "output_type": "stream",
     "text": [
      "coarse accuracy\n",
      "original    0.4743\n",
      "new         0.4743\n",
      "dtype: float32\n",
      "\n",
      "fine accuracy\n",
      "original    0.3550\n",
      "new         0.3567\n",
      "dtype: float32\n"
     ]
    }
   ],
   "source": [
    "# updated_values, accuracies = aim1_1.measure_new_predicted_probabilities(hierarchy=data_loader.hierarchy, weight=1, bias=0.5, METRIC_USED_TO_MEASURE_COEFFICIENT='pred', MODE_UPDATE_LOSS='pred', THRESHOLD_UPDATE_LOSS=0.5)\n",
    "\n",
    "print('coarse accuracy')\n",
    "print( accuracies.coarse.mean() )\n",
    "\n",
    "print('\\nfine accuracy')\n",
    "print( accuracies.fine.mean() )"
   ]
  },
  {
   "cell_type": "markdown",
   "metadata": {
    "pycharm": {
     "name": "#%% md\n"
    }
   },
   "source": [
    "### <span style=\"font-family:PT Sans Narrow; font-size:1em\">  Checking the results per subject </span>"
   ]
  },
  {
   "cell_type": "code",
   "execution_count": 13,
   "metadata": {
    "pycharm": {
     "name": "#%%\n"
    }
   },
   "outputs": [
    {
     "data": {
      "text/html": [
       "<div>\n",
       "<style scoped>\n",
       "    .dataframe tbody tr th:only-of-type {\n",
       "        vertical-align: middle;\n",
       "    }\n",
       "\n",
       "    .dataframe tbody tr th {\n",
       "        vertical-align: top;\n",
       "    }\n",
       "\n",
       "    .dataframe thead th {\n",
       "        text-align: right;\n",
       "    }\n",
       "</style>\n",
       "<table border=\"1\" class=\"dataframe\">\n",
       "  <thead>\n",
       "    <tr style=\"text-align: right;\">\n",
       "      <th></th>\n",
       "      <th>coefficient</th>\n",
       "      <th>loss</th>\n",
       "      <th>truth</th>\n",
       "      <th>pred</th>\n",
       "      <th>pred_new</th>\n",
       "    </tr>\n",
       "  </thead>\n",
       "  <tbody>\n",
       "    <tr>\n",
       "      <th>aquatic_mammals</th>\n",
       "      <td>1.0000</td>\n",
       "      <td>0.3887</td>\n",
       "      <td>0</td>\n",
       "      <td>0.3221</td>\n",
       "      <td>0.3221</td>\n",
       "    </tr>\n",
       "    <tr>\n",
       "      <th>fish</th>\n",
       "      <td>1.0000</td>\n",
       "      <td>0.0323</td>\n",
       "      <td>0</td>\n",
       "      <td>0.0318</td>\n",
       "      <td>0.0318</td>\n",
       "    </tr>\n",
       "    <tr>\n",
       "      <th>flowers</th>\n",
       "      <td>1.0000</td>\n",
       "      <td>0.0057</td>\n",
       "      <td>0</td>\n",
       "      <td>0.0057</td>\n",
       "      <td>0.0057</td>\n",
       "    </tr>\n",
       "    <tr>\n",
       "      <th>food_containers</th>\n",
       "      <td>1.0000</td>\n",
       "      <td>0.0250</td>\n",
       "      <td>0</td>\n",
       "      <td>0.0246</td>\n",
       "      <td>0.0246</td>\n",
       "    </tr>\n",
       "    <tr>\n",
       "      <th>fruit_and_vegetables</th>\n",
       "      <td>1.0000</td>\n",
       "      <td>3.1148</td>\n",
       "      <td>1</td>\n",
       "      <td>0.0444</td>\n",
       "      <td>0.0444</td>\n",
       "    </tr>\n",
       "    <tr>\n",
       "      <th>...</th>\n",
       "      <td>...</td>\n",
       "      <td>...</td>\n",
       "      <td>...</td>\n",
       "      <td>...</td>\n",
       "      <td>...</td>\n",
       "    </tr>\n",
       "    <tr>\n",
       "      <th>whale</th>\n",
       "      <td>0.8221</td>\n",
       "      <td>0.0088</td>\n",
       "      <td>0</td>\n",
       "      <td>0.0088</td>\n",
       "      <td>0.0072</td>\n",
       "    </tr>\n",
       "    <tr>\n",
       "      <th>willow_tree</th>\n",
       "      <td>0.5455</td>\n",
       "      <td>0.0015</td>\n",
       "      <td>0</td>\n",
       "      <td>0.0015</td>\n",
       "      <td>0.0008</td>\n",
       "    </tr>\n",
       "    <tr>\n",
       "      <th>wolf</th>\n",
       "      <td>0.6442</td>\n",
       "      <td>0.0524</td>\n",
       "      <td>0</td>\n",
       "      <td>0.0511</td>\n",
       "      <td>0.0329</td>\n",
       "    </tr>\n",
       "    <tr>\n",
       "      <th>woman</th>\n",
       "      <td>0.5027</td>\n",
       "      <td>0.0008</td>\n",
       "      <td>0</td>\n",
       "      <td>0.0008</td>\n",
       "      <td>0.0004</td>\n",
       "    </tr>\n",
       "    <tr>\n",
       "      <th>worm</th>\n",
       "      <td>0.5119</td>\n",
       "      <td>0.0003</td>\n",
       "      <td>0</td>\n",
       "      <td>0.0003</td>\n",
       "      <td>0.0001</td>\n",
       "    </tr>\n",
       "  </tbody>\n",
       "</table>\n",
       "<p>120 rows × 5 columns</p>\n",
       "</div>"
      ],
      "text/plain": [
       "                      coefficient    loss  truth    pred  pred_new\n",
       "aquatic_mammals            1.0000  0.3887      0  0.3221    0.3221\n",
       "fish                       1.0000  0.0323      0  0.0318    0.0318\n",
       "flowers                    1.0000  0.0057      0  0.0057    0.0057\n",
       "food_containers            1.0000  0.0250      0  0.0246    0.0246\n",
       "fruit_and_vegetables       1.0000  3.1148      1  0.0444    0.0444\n",
       "...                           ...     ...    ...     ...       ...\n",
       "whale                      0.8221  0.0088      0  0.0088    0.0072\n",
       "willow_tree                0.5455  0.0015      0  0.0015    0.0008\n",
       "wolf                       0.6442  0.0524      0  0.0511    0.0329\n",
       "woman                      0.5027  0.0008      0  0.0008    0.0004\n",
       "worm                       0.5119  0.0003      0  0.0003    0.0001\n",
       "\n",
       "[120 rows x 5 columns]"
      ]
     },
     "execution_count": 13,
     "metadata": {},
     "output_type": "execute_result"
    }
   ],
   "source": [
    "subjcet_index = 3\n",
    "\n",
    "data_subject = {}\n",
    "for name in ['coefficient' ,'loss' , 'truth' , 'pred' , 'pred_new']:\n",
    "    data_subject[name] = updated_values[name].iloc[subjcet_index]\n",
    "\n",
    "pd.DataFrame(data_subject).round(decimals=4)"
   ]
  },
  {
   "cell_type": "markdown",
   "metadata": {
    "pycharm": {
     "name": "#%% md\n"
    }
   },
   "source": [
    "# <span style=\"color:orange; font-family:PT Sans Narrow; font-size:1em\"> killing the mlflow & ssh sessions </span>"
   ]
  },
  {
   "cell_type": "code",
   "execution_count": 11,
   "metadata": {
    "pycharm": {
     "name": "#%%\n"
    }
   },
   "outputs": [],
   "source": [
    "# closing the child mlflow session\n",
    "aim1_1.cleanup_mlflow_after_runs()\n",
    "\n",
    "# closing the ssh session\n",
    "aim1_1.ssh_session.kill()"
   ]
  },
  {
   "cell_type": "markdown",
   "metadata": {
    "pycharm": {
     "name": "#%% md\n"
    }
   },
   "source": [
    "# <span style=\"color:orange; font-family:PT Sans Narrow; font-size:1em\"> Tensorflow-Hub Model </span>"
   ]
  },
  {
   "cell_type": "code",
   "execution_count": null,
   "metadata": {
    "pycharm": {
     "name": "#%%\n"
    }
   },
   "outputs": [],
   "source": [
    "import matplotlib.pyplot as plt\n",
    "import tensorflow_hub as hub\n",
    "\n",
    "model = hub.load(\"https://tfhub.dev/rishit-dagli/swin-transformer/1\")\n",
    "\n",
    "subject_index = 59\n",
    "\n",
    "im = data_loader.dataframes['train'].loc[subject_index,'data']\n",
    "\n",
    "im = tf.image.convert_image_dtype(im[np.newaxis , ...], tf.float32)\n",
    "\n",
    "# pred = model(im)\n",
    "\n",
    "# pred_label = np.argmax(pred)\n",
    "\n",
    "# true_label = np.where( data_loader.dataframes['train'].loc[subject_index,'labels'])[0]\n",
    "\n",
    "# print('true_label', (true_label[0] , true_label[1]-20) , 'pred_label', pred_label)\n",
    "\n",
    "# pred = pred.numpy().reshape(-1)\n",
    "# plt.plot( pred )"
   ]
  },
  {
   "cell_type": "code",
   "execution_count": null,
   "metadata": {
    "pycharm": {
     "name": "#%%\n"
    }
   },
   "outputs": [],
   "source": [
    "# import torch, torchvision\n",
    "# # from torchvision.models import resnet50, ResNet50_Weights"
   ]
  },
  {
   "cell_type": "code",
   "execution_count": null,
   "metadata": {
    "pycharm": {
     "name": "#%%\n"
    }
   },
   "outputs": [],
   "source": [
    "# torchvision.models.Inception3()"
   ]
  },
  {
   "cell_type": "code",
   "execution_count": null,
   "metadata": {
    "pycharm": {
     "name": "#%%\n"
    }
   },
   "outputs": [],
   "source": [
    "# torch.hub.list('pytorch/vision')"
   ]
  },
  {
   "cell_type": "code",
   "execution_count": null,
   "metadata": {
    "pycharm": {
     "name": "#%%\n"
    }
   },
   "outputs": [],
   "source": []
  }
 ],
 "metadata": {
  "kernelspec": {
   "display_name": "Python 3.8.13 ('paper_miniforge_v2')",
   "language": "python",
   "name": "python3"
  },
  "language_info": {
   "codemirror_mode": {
    "name": "ipython",
    "version": 3
   },
   "file_extension": ".py",
   "mimetype": "text/x-python",
   "name": "python",
   "nbconvert_exporter": "python",
   "pygments_lexer": "ipython3",
   "version": "3.10.4 | packaged by conda-forge | (main, Mar 24 2022, 17:42:03) [Clang 12.0.1 ]"
  },
  "metadata": {
   "interpreter": {
    "hash": "97f50b47c5db4a373caba7d351ed0bd803d6a9b66b6e99b50d57389022e4f55d"
   }
  },
  "vscode": {
   "interpreter": {
    "hash": "39d0623b5cf60cf814ab926a8c0ffabd85a4083e4a4c6e6e930baebba28dd02d"
   }
  }
 },
 "nbformat": 4,
 "nbformat_minor": 2
}
