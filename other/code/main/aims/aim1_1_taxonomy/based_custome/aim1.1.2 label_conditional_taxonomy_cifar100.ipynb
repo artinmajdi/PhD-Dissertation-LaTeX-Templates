{
 "cells": [
  {
   "cell_type": "markdown",
   "metadata": {},
   "source": [
    "# <span style=\"font-family:PT Sans Narrow; color:orange; font-size:1.31em\"> Main Idea: </span>"
   ]
  },
  {
   "cell_type": "code",
   "execution_count": 3,
   "metadata": {},
   "outputs": [
    {
     "name": "stderr",
     "output_type": "stream",
     "text": [
      "/opt/homebrew/Caskroom/miniforge/base/envs/paper_miniforge/lib/python3.8/site-packages/seaborn/rcmod.py:82: DeprecationWarning: distutils Version classes are deprecated. Use packaging.version instead.\n",
      "  if LooseVersion(mpl.__version__) >= \"3.0\":\n",
      "/opt/homebrew/Caskroom/miniforge/base/envs/paper_miniforge/lib/python3.8/site-packages/setuptools/_distutils/version.py:351: DeprecationWarning: distutils Version classes are deprecated. Use packaging.version instead.\n",
      "  other = LooseVersion(other)\n"
     ]
    },
    {
     "name": "stdout",
     "output_type": "stream",
     "text": [
      "Metal device set to: Apple M1\n",
      "\n",
      "systemMemory: 16.00 GB\n",
      "maxCacheSize: 5.33 GB\n",
      "\n"
     ]
    },
    {
     "name": "stderr",
     "output_type": "stream",
     "text": [
      "2022-07-01 00:31:20.248176: I tensorflow/core/common_runtime/pluggable_device/pluggable_device_factory.cc:305] Could not identify NUMA node of platform GPU ID 0, defaulting to 0. Your kernel may not have been built with NUMA support.\n",
      "2022-07-01 00:31:20.248275: I tensorflow/core/common_runtime/pluggable_device/pluggable_device_factory.cc:271] Created TensorFlow device (/job:localhost/replica:0/task:0/device:GPU:0 with 0 MB memory) -> physical PluggableDevice (device: 0, name: METAL, pci bus id: <undefined>)\n"
     ]
    }
   ],
   "source": [
    "%reload_ext autoreload\n",
    "%autoreload 2\n",
    "\n",
    "import os\n",
    "import sys\n",
    "sys.path.append('../../')\n",
    "\n",
    "import tensorflow as tf\n",
    "\n",
    "# setup tensorflow 2.4.1 to only use GPU memory as needed\n",
    "physical_devices = tf.config.experimental.list_physical_devices('GPU')\n",
    "for physical_device in physical_devices:\n",
    "    tf.config.experimental.set_memory_growth(physical_device, True)\n",
    "\n",
    "import funcs \n",
    "import load_data\n",
    "\n",
    "import mlflow\n",
    "import numpy as np\n",
    "import pandas as pd\n",
    "\n",
    "import warnings\n",
    "warnings.filterwarnings('ignore')\n",
    "\n",
    "\n",
    "%reload_ext load_data\n",
    "%reload_ext funcs"
   ]
  },
  {
   "cell_type": "markdown",
   "metadata": {},
   "source": [
    "### <span style=\"font-family:PT Sans Narrow; font-size:1em\"> MLFlow Setup </span>"
   ]
  },
  {
   "cell_type": "code",
   "execution_count": 4,
   "metadata": {},
   "outputs": [
    {
     "name": "stdout",
     "output_type": "stream",
     "text": [
      "Connecting to the server...\n"
     ]
    },
    {
     "name": "stderr",
     "output_type": "stream",
     "text": [
      "\n",
      "\n",
      "\n",
      "\n",
      "************************************************\n",
      "Access is restricted to AUTHORIZED USERS only! If\n",
      "you are not authorized LEAVE NOW!\n",
      "************************************************\n",
      "\n",
      "\n",
      "\n"
     ]
    },
    {
     "name": "stdout",
     "output_type": "stream",
     "text": [
      "Killing all active runs...\n",
      "Setting up the experiment...\n",
      "setting the tracking URI\n",
      "setting/creating the experiment\n",
      "Running the session...\n"
     ]
    }
   ],
   "source": [
    "aim1_1 = funcs.AIM1_1( experiment_name='label_inter_dependence'  ,  run_name='test'  ,  new_run=False  ,  dataset='cifar100' )"
   ]
  },
  {
   "cell_type": "code",
   "execution_count": null,
   "metadata": {},
   "outputs": [],
   "source": [
    "p = aim1_1.mlflow_ui(VIEW_PORT=6789)"
   ]
  },
  {
   "cell_type": "markdown",
   "metadata": {},
   "source": [
    "### <span style=\"font-family:PT Sans Narrow; font-size:1em\"> Loading the data  </span>"
   ]
  },
  {
   "cell_type": "code",
   "execution_count": 6,
   "metadata": {},
   "outputs": [],
   "source": [
    "data_loader = load_data.LOAD_CIFAR100(site='local')\n",
    "\n",
    "data_loader.load( data_modes=['train', 'valid', 'test'] , label_type='merged' )\n",
    "\n",
    "data_loader.get_iterators(data_modes=['train'] , be_augmented=True  , Keras=True, TF=False, batch_size=128)\n",
    "data_loader.get_iterators(data_modes=['valid'] , be_augmented=False, Keras=True, TF=False, batch_size=128)"
   ]
  },
  {
   "cell_type": "markdown",
   "metadata": {},
   "source": [
    "### <span style=\"font-family:PT Sans Narrow; font-size:1em\"> Getting the optimized model from server  </span>"
   ]
  },
  {
   "cell_type": "code",
   "execution_count": 17,
   "metadata": {},
   "outputs": [],
   "source": [
    "model = aim1_1.get_model(data_loader=data_loader, optimize_model=False , epochs=1)"
   ]
  },
  {
   "cell_type": "markdown",
   "metadata": {},
   "source": [
    "### <span style=\"font-family:PT Sans Narrow; font-size:1em\"> Getting the optimization values </span>"
   ]
  },
  {
   "cell_type": "code",
   "execution_count": 18,
   "metadata": {},
   "outputs": [
    {
     "name": "stderr",
     "output_type": "stream",
     "text": [
      "2022-07-01 00:43:30.081285: W tensorflow/core/platform/profile_utils/cpu_utils.cc:128] Failed to get CPU frequency: 0 Hz\n",
      "2022-07-01 00:43:31.155255: I tensorflow/core/grappler/optimizers/custom_graph_optimizer_registry.cc:113] Plugin optimizer for device_type GPU is enabled.\n"
     ]
    },
    {
     "data": {
      "text/html": [
       "<div>\n",
       "<style scoped>\n",
       "    .dataframe tbody tr th:only-of-type {\n",
       "        vertical-align: middle;\n",
       "    }\n",
       "\n",
       "    .dataframe tbody tr th {\n",
       "        vertical-align: top;\n",
       "    }\n",
       "\n",
       "    .dataframe thead th {\n",
       "        text-align: right;\n",
       "    }\n",
       "</style>\n",
       "<table border=\"1\" class=\"dataframe\">\n",
       "  <thead>\n",
       "    <tr style=\"text-align: right;\">\n",
       "      <th></th>\n",
       "      <th>loss_avg</th>\n",
       "      <th>acc_avg</th>\n",
       "      <th>pred</th>\n",
       "      <th>pred_binary</th>\n",
       "      <th>truth</th>\n",
       "      <th>loss</th>\n",
       "    </tr>\n",
       "  </thead>\n",
       "  <tbody>\n",
       "    <tr>\n",
       "      <th>0</th>\n",
       "      <td>0.037178</td>\n",
       "      <td>0.991667</td>\n",
       "      <td>[0.002931992, 0.011508828, 0.0045414907, 0.000...</td>\n",
       "      <td>[False, False, False, False, False, False, Fal...</td>\n",
       "      <td>[False, False, False, False, False, False, Fal...</td>\n",
       "      <td>[0.0029361595, 0.011575413, 0.0045517334, 0.00...</td>\n",
       "    </tr>\n",
       "    <tr>\n",
       "      <th>1</th>\n",
       "      <td>0.028374</td>\n",
       "      <td>0.983333</td>\n",
       "      <td>[0.0037598696, 0.022452775, 0.00077427167, 0.0...</td>\n",
       "      <td>[False, False, False, False, False, False, Fal...</td>\n",
       "      <td>[False, False, False, False, False, False, Fal...</td>\n",
       "      <td>[0.0037668347, 0.02270851, 0.00077440444, 0.00...</td>\n",
       "    </tr>\n",
       "    <tr>\n",
       "      <th>2</th>\n",
       "      <td>0.072949</td>\n",
       "      <td>0.983333</td>\n",
       "      <td>[0.004610302, 0.016615499, 0.023130799, 0.0030...</td>\n",
       "      <td>[False, False, False, False, False, False, Fal...</td>\n",
       "      <td>[False, False, True, False, False, False, Fals...</td>\n",
       "      <td>[0.0046208114, 0.016754966, 3.7665858, 0.00302...</td>\n",
       "    </tr>\n",
       "    <tr>\n",
       "      <th>3</th>\n",
       "      <td>0.065633</td>\n",
       "      <td>0.983333</td>\n",
       "      <td>[0.014075292, 0.009186894, 0.0044198986, 0.002...</td>\n",
       "      <td>[False, False, False, False, False, False, Fal...</td>\n",
       "      <td>[False, False, False, False, False, False, Fal...</td>\n",
       "      <td>[0.014175105, 0.009229229, 0.0044296067, 0.002...</td>\n",
       "    </tr>\n",
       "    <tr>\n",
       "      <th>4</th>\n",
       "      <td>0.041336</td>\n",
       "      <td>0.983333</td>\n",
       "      <td>[0.0011161854, 0.005218171, 0.08704416, 0.0211...</td>\n",
       "      <td>[False, False, False, False, False, False, Fal...</td>\n",
       "      <td>[False, False, False, False, True, False, Fals...</td>\n",
       "      <td>[0.0011166562, 0.005231692, 0.091067635, 0.021...</td>\n",
       "    </tr>\n",
       "  </tbody>\n",
       "</table>\n",
       "</div>"
      ],
      "text/plain": [
       "   loss_avg   acc_avg                                               pred  \\\n",
       "0  0.037178  0.991667  [0.002931992, 0.011508828, 0.0045414907, 0.000...   \n",
       "1  0.028374  0.983333  [0.0037598696, 0.022452775, 0.00077427167, 0.0...   \n",
       "2  0.072949  0.983333  [0.004610302, 0.016615499, 0.023130799, 0.0030...   \n",
       "3  0.065633  0.983333  [0.014075292, 0.009186894, 0.0044198986, 0.002...   \n",
       "4  0.041336  0.983333  [0.0011161854, 0.005218171, 0.08704416, 0.0211...   \n",
       "\n",
       "                                         pred_binary  \\\n",
       "0  [False, False, False, False, False, False, Fal...   \n",
       "1  [False, False, False, False, False, False, Fal...   \n",
       "2  [False, False, False, False, False, False, Fal...   \n",
       "3  [False, False, False, False, False, False, Fal...   \n",
       "4  [False, False, False, False, False, False, Fal...   \n",
       "\n",
       "                                               truth  \\\n",
       "0  [False, False, False, False, False, False, Fal...   \n",
       "1  [False, False, False, False, False, False, Fal...   \n",
       "2  [False, False, True, False, False, False, Fals...   \n",
       "3  [False, False, False, False, False, False, Fal...   \n",
       "4  [False, False, False, False, True, False, Fals...   \n",
       "\n",
       "                                                loss  \n",
       "0  [0.0029361595, 0.011575413, 0.0045517334, 0.00...  \n",
       "1  [0.0037668347, 0.02270851, 0.00077440444, 0.00...  \n",
       "2  [0.0046208114, 0.016754966, 3.7665858, 0.00302...  \n",
       "3  [0.014175105, 0.009229229, 0.0044296067, 0.002...  \n",
       "4  [0.0011166562, 0.005231692, 0.091067635, 0.021...  "
      ]
     },
     "execution_count": 18,
     "metadata": {},
     "output_type": "execute_result"
    }
   ],
   "source": [
    "x, y = np.array( data_loader.dataframes['valid'].data.to_list())  ,  np.array( data_loader.dataframes['valid'].labels.to_list()) \n",
    "\n",
    "df_score = aim1_1.get_optimization_values(x=x ,y=y , labels=data_loader.label_names )\n",
    "\n",
    "df_score.head()"
   ]
  },
  {
   "cell_type": "code",
   "execution_count": 19,
   "metadata": {},
   "outputs": [
    {
     "data": {
      "text/plain": [
       "array([0, 0, 0, 0, 0, 0, 0, 0, 0, 0, 1, 0, 0, 0, 0, 0, 0, 0, 0, 0, 0, 0,\n",
       "       0, 0, 0, 0, 0, 0, 0, 0, 0, 0, 0, 0, 0, 0, 0, 0, 0, 0, 0, 0, 0, 0,\n",
       "       0, 0, 0, 0, 0, 0, 0, 0, 0, 1, 0, 0, 0, 0, 0, 0, 0, 0, 0, 0, 0, 0,\n",
       "       0, 0, 0, 0, 0, 0, 0, 0, 0, 0, 0, 0, 0, 0, 0, 0, 0, 0, 0, 0, 0, 0,\n",
       "       0, 0, 0, 0, 0, 0, 0, 0, 0, 0, 0, 0, 0, 0, 0, 0, 0, 0, 0, 0, 0, 0,\n",
       "       0, 0, 0, 0, 0, 0, 0, 0, 0, 0])"
      ]
     },
     "execution_count": 19,
     "metadata": {},
     "output_type": "execute_result"
    }
   ],
   "source": [
    "data_loader.dataframes['valid'].labels[0]"
   ]
  },
  {
   "cell_type": "markdown",
   "metadata": {},
   "source": [
    "### <span style=\"font-family:PT Sans Narrow; font-size:1em\">  Measuring updated results for all proposed techniques </span>"
   ]
  },
  {
   "cell_type": "code",
   "execution_count": 20,
   "metadata": {},
   "outputs": [
    {
     "data": {
      "text/html": [
       "<div>\n",
       "<style scoped>\n",
       "    .dataframe tbody tr th:only-of-type {\n",
       "        vertical-align: middle;\n",
       "    }\n",
       "\n",
       "    .dataframe tbody tr th {\n",
       "        vertical-align: top;\n",
       "    }\n",
       "\n",
       "    .dataframe thead th {\n",
       "        text-align: right;\n",
       "    }\n",
       "</style>\n",
       "<table border=\"1\" class=\"dataframe\">\n",
       "  <thead>\n",
       "    <tr style=\"text-align: right;\">\n",
       "      <th></th>\n",
       "      <th>original</th>\n",
       "      <th>new</th>\n",
       "    </tr>\n",
       "  </thead>\n",
       "  <tbody>\n",
       "    <tr>\n",
       "      <th>aquatic_mammals</th>\n",
       "      <td>0.95</td>\n",
       "      <td>0.95</td>\n",
       "    </tr>\n",
       "    <tr>\n",
       "      <th>fish</th>\n",
       "      <td>0.95</td>\n",
       "      <td>0.95</td>\n",
       "    </tr>\n",
       "    <tr>\n",
       "      <th>flowers</th>\n",
       "      <td>0.96</td>\n",
       "      <td>0.96</td>\n",
       "    </tr>\n",
       "    <tr>\n",
       "      <th>food_containers</th>\n",
       "      <td>0.95</td>\n",
       "      <td>0.95</td>\n",
       "    </tr>\n",
       "    <tr>\n",
       "      <th>fruit_and_vegetables</th>\n",
       "      <td>0.96</td>\n",
       "      <td>0.96</td>\n",
       "    </tr>\n",
       "    <tr>\n",
       "      <th>...</th>\n",
       "      <td>...</td>\n",
       "      <td>...</td>\n",
       "    </tr>\n",
       "    <tr>\n",
       "      <th>whale</th>\n",
       "      <td>0.99</td>\n",
       "      <td>0.99</td>\n",
       "    </tr>\n",
       "    <tr>\n",
       "      <th>willow_tree</th>\n",
       "      <td>0.99</td>\n",
       "      <td>0.99</td>\n",
       "    </tr>\n",
       "    <tr>\n",
       "      <th>wolf</th>\n",
       "      <td>0.99</td>\n",
       "      <td>0.99</td>\n",
       "    </tr>\n",
       "    <tr>\n",
       "      <th>woman</th>\n",
       "      <td>0.99</td>\n",
       "      <td>0.99</td>\n",
       "    </tr>\n",
       "    <tr>\n",
       "      <th>worm</th>\n",
       "      <td>0.99</td>\n",
       "      <td>0.99</td>\n",
       "    </tr>\n",
       "  </tbody>\n",
       "</table>\n",
       "<p>120 rows × 2 columns</p>\n",
       "</div>"
      ],
      "text/plain": [
       "                      original   new\n",
       "aquatic_mammals           0.95  0.95\n",
       "fish                      0.95  0.95\n",
       "flowers                   0.96  0.96\n",
       "food_containers           0.95  0.95\n",
       "fruit_and_vegetables      0.96  0.96\n",
       "...                        ...   ...\n",
       "whale                     0.99  0.99\n",
       "willow_tree               0.99  0.99\n",
       "wolf                      0.99  0.99\n",
       "woman                     0.99  0.99\n",
       "worm                      0.99  0.99\n",
       "\n",
       "[120 rows x 2 columns]"
      ]
     },
     "execution_count": 20,
     "metadata": {},
     "output_type": "execute_result"
    }
   ],
   "source": [
    "updated_values, mean_values, accuracies = aim1_1.measure_new_predicted_probabilities(hierarchy=data_loader.hierarchy, weight=1, bias=0.5, METRIC_USED_TO_MEASURE_COEFFICIENT='pred', MODE_UPDATE_LOSS='pred', THRESHOLD_UPDATE_LOSS=0.5)\n",
    "\n",
    "accuracies.round(decimals=2)"
   ]
  },
  {
   "cell_type": "code",
   "execution_count": 21,
   "metadata": {},
   "outputs": [
    {
     "data": {
      "text/html": [
       "<div>\n",
       "<style scoped>\n",
       "    .dataframe tbody tr th:only-of-type {\n",
       "        vertical-align: middle;\n",
       "    }\n",
       "\n",
       "    .dataframe tbody tr th {\n",
       "        vertical-align: top;\n",
       "    }\n",
       "\n",
       "    .dataframe thead th {\n",
       "        text-align: right;\n",
       "    }\n",
       "</style>\n",
       "<table border=\"1\" class=\"dataframe\">\n",
       "  <thead>\n",
       "    <tr style=\"text-align: right;\">\n",
       "      <th></th>\n",
       "      <th>loss</th>\n",
       "      <th>truth</th>\n",
       "      <th>pred</th>\n",
       "      <th>pred_new</th>\n",
       "    </tr>\n",
       "  </thead>\n",
       "  <tbody>\n",
       "    <tr>\n",
       "      <th>aquatic_mammals</th>\n",
       "      <td>0.18</td>\n",
       "      <td>0.05</td>\n",
       "      <td>0.02</td>\n",
       "      <td>0.02</td>\n",
       "    </tr>\n",
       "    <tr>\n",
       "      <th>fish</th>\n",
       "      <td>0.15</td>\n",
       "      <td>0.05</td>\n",
       "      <td>0.03</td>\n",
       "      <td>0.03</td>\n",
       "    </tr>\n",
       "    <tr>\n",
       "      <th>flowers</th>\n",
       "      <td>0.11</td>\n",
       "      <td>0.05</td>\n",
       "      <td>0.03</td>\n",
       "      <td>0.03</td>\n",
       "    </tr>\n",
       "    <tr>\n",
       "      <th>food_containers</th>\n",
       "      <td>0.15</td>\n",
       "      <td>0.05</td>\n",
       "      <td>0.02</td>\n",
       "      <td>0.02</td>\n",
       "    </tr>\n",
       "    <tr>\n",
       "      <th>fruit_and_vegetables</th>\n",
       "      <td>0.13</td>\n",
       "      <td>0.05</td>\n",
       "      <td>0.03</td>\n",
       "      <td>0.03</td>\n",
       "    </tr>\n",
       "    <tr>\n",
       "      <th>...</th>\n",
       "      <td>...</td>\n",
       "      <td>...</td>\n",
       "      <td>...</td>\n",
       "      <td>...</td>\n",
       "    </tr>\n",
       "    <tr>\n",
       "      <th>whale</th>\n",
       "      <td>0.05</td>\n",
       "      <td>0.01</td>\n",
       "      <td>0.00</td>\n",
       "      <td>0.00</td>\n",
       "    </tr>\n",
       "    <tr>\n",
       "      <th>willow_tree</th>\n",
       "      <td>0.04</td>\n",
       "      <td>0.01</td>\n",
       "      <td>0.01</td>\n",
       "      <td>0.00</td>\n",
       "    </tr>\n",
       "    <tr>\n",
       "      <th>wolf</th>\n",
       "      <td>0.04</td>\n",
       "      <td>0.01</td>\n",
       "      <td>0.00</td>\n",
       "      <td>0.00</td>\n",
       "    </tr>\n",
       "    <tr>\n",
       "      <th>woman</th>\n",
       "      <td>0.04</td>\n",
       "      <td>0.01</td>\n",
       "      <td>0.01</td>\n",
       "      <td>0.00</td>\n",
       "    </tr>\n",
       "    <tr>\n",
       "      <th>worm</th>\n",
       "      <td>0.02</td>\n",
       "      <td>0.01</td>\n",
       "      <td>0.01</td>\n",
       "      <td>0.00</td>\n",
       "    </tr>\n",
       "  </tbody>\n",
       "</table>\n",
       "<p>120 rows × 4 columns</p>\n",
       "</div>"
      ],
      "text/plain": [
       "                      loss  truth  pred  pred_new\n",
       "aquatic_mammals       0.18   0.05  0.02      0.02\n",
       "fish                  0.15   0.05  0.03      0.03\n",
       "flowers               0.11   0.05  0.03      0.03\n",
       "food_containers       0.15   0.05  0.02      0.02\n",
       "fruit_and_vegetables  0.13   0.05  0.03      0.03\n",
       "...                    ...    ...   ...       ...\n",
       "whale                 0.05   0.01  0.00      0.00\n",
       "willow_tree           0.04   0.01  0.01      0.00\n",
       "wolf                  0.04   0.01  0.00      0.00\n",
       "woman                 0.04   0.01  0.01      0.00\n",
       "worm                  0.02   0.01  0.01      0.00\n",
       "\n",
       "[120 rows x 4 columns]"
      ]
     },
     "execution_count": 21,
     "metadata": {},
     "output_type": "execute_result"
    }
   ],
   "source": [
    "mean_values"
   ]
  },
  {
   "cell_type": "markdown",
   "metadata": {},
   "source": [
    "### <span style=\"font-family:PT Sans Narrow; font-size:1em\">  Checking the results per subject </span>"
   ]
  },
  {
   "cell_type": "code",
   "execution_count": 22,
   "metadata": {},
   "outputs": [
    {
     "data": {
      "text/html": [
       "<div>\n",
       "<style scoped>\n",
       "    .dataframe tbody tr th:only-of-type {\n",
       "        vertical-align: middle;\n",
       "    }\n",
       "\n",
       "    .dataframe tbody tr th {\n",
       "        vertical-align: top;\n",
       "    }\n",
       "\n",
       "    .dataframe thead th {\n",
       "        text-align: right;\n",
       "    }\n",
       "</style>\n",
       "<table border=\"1\" class=\"dataframe\">\n",
       "  <thead>\n",
       "    <tr style=\"text-align: right;\">\n",
       "      <th></th>\n",
       "      <th>coefficient</th>\n",
       "      <th>loss</th>\n",
       "      <th>truth</th>\n",
       "      <th>pred</th>\n",
       "      <th>pred_new</th>\n",
       "    </tr>\n",
       "  </thead>\n",
       "  <tbody>\n",
       "    <tr>\n",
       "      <th>aquatic_mammals</th>\n",
       "      <td>1.0000</td>\n",
       "      <td>0.0142</td>\n",
       "      <td>0</td>\n",
       "      <td>0.0141</td>\n",
       "      <td>0.0141</td>\n",
       "    </tr>\n",
       "    <tr>\n",
       "      <th>fish</th>\n",
       "      <td>1.0000</td>\n",
       "      <td>0.0092</td>\n",
       "      <td>0</td>\n",
       "      <td>0.0092</td>\n",
       "      <td>0.0092</td>\n",
       "    </tr>\n",
       "    <tr>\n",
       "      <th>flowers</th>\n",
       "      <td>1.0000</td>\n",
       "      <td>0.0044</td>\n",
       "      <td>0</td>\n",
       "      <td>0.0044</td>\n",
       "      <td>0.0044</td>\n",
       "    </tr>\n",
       "    <tr>\n",
       "      <th>food_containers</th>\n",
       "      <td>1.0000</td>\n",
       "      <td>0.0024</td>\n",
       "      <td>0</td>\n",
       "      <td>0.0024</td>\n",
       "      <td>0.0024</td>\n",
       "    </tr>\n",
       "    <tr>\n",
       "      <th>fruit_and_vegetables</th>\n",
       "      <td>1.0000</td>\n",
       "      <td>0.0058</td>\n",
       "      <td>0</td>\n",
       "      <td>0.0057</td>\n",
       "      <td>0.0057</td>\n",
       "    </tr>\n",
       "    <tr>\n",
       "      <th>...</th>\n",
       "      <td>...</td>\n",
       "      <td>...</td>\n",
       "      <td>...</td>\n",
       "      <td>...</td>\n",
       "      <td>...</td>\n",
       "    </tr>\n",
       "    <tr>\n",
       "      <th>whale</th>\n",
       "      <td>0.5141</td>\n",
       "      <td>0.0005</td>\n",
       "      <td>0</td>\n",
       "      <td>0.0005</td>\n",
       "      <td>0.0002</td>\n",
       "    </tr>\n",
       "    <tr>\n",
       "      <th>willow_tree</th>\n",
       "      <td>0.5014</td>\n",
       "      <td>0.0007</td>\n",
       "      <td>0</td>\n",
       "      <td>0.0007</td>\n",
       "      <td>0.0004</td>\n",
       "    </tr>\n",
       "    <tr>\n",
       "      <th>wolf</th>\n",
       "      <td>0.5973</td>\n",
       "      <td>0.0100</td>\n",
       "      <td>0</td>\n",
       "      <td>0.0099</td>\n",
       "      <td>0.0059</td>\n",
       "    </tr>\n",
       "    <tr>\n",
       "      <th>woman</th>\n",
       "      <td>0.5050</td>\n",
       "      <td>0.0107</td>\n",
       "      <td>0</td>\n",
       "      <td>0.0107</td>\n",
       "      <td>0.0054</td>\n",
       "    </tr>\n",
       "    <tr>\n",
       "      <th>worm</th>\n",
       "      <td>0.5598</td>\n",
       "      <td>0.0106</td>\n",
       "      <td>0</td>\n",
       "      <td>0.0106</td>\n",
       "      <td>0.0059</td>\n",
       "    </tr>\n",
       "  </tbody>\n",
       "</table>\n",
       "<p>120 rows × 5 columns</p>\n",
       "</div>"
      ],
      "text/plain": [
       "                      coefficient    loss  truth    pred  pred_new\n",
       "aquatic_mammals            1.0000  0.0142      0  0.0141    0.0141\n",
       "fish                       1.0000  0.0092      0  0.0092    0.0092\n",
       "flowers                    1.0000  0.0044      0  0.0044    0.0044\n",
       "food_containers            1.0000  0.0024      0  0.0024    0.0024\n",
       "fruit_and_vegetables       1.0000  0.0058      0  0.0057    0.0057\n",
       "...                           ...     ...    ...     ...       ...\n",
       "whale                      0.5141  0.0005      0  0.0005    0.0002\n",
       "willow_tree                0.5014  0.0007      0  0.0007    0.0004\n",
       "wolf                       0.5973  0.0100      0  0.0099    0.0059\n",
       "woman                      0.5050  0.0107      0  0.0107    0.0054\n",
       "worm                       0.5598  0.0106      0  0.0106    0.0059\n",
       "\n",
       "[120 rows x 5 columns]"
      ]
     },
     "execution_count": 22,
     "metadata": {},
     "output_type": "execute_result"
    }
   ],
   "source": [
    "subjcet_index = 3\n",
    "\n",
    "data_subject = {}\n",
    "for name in ['coefficient' ,'loss' , 'truth' , 'pred' , 'pred_new']:\n",
    "    data_subject[name] = updated_values[name].iloc[subjcet_index]\n",
    "\n",
    "pd.DataFrame(data_subject).round(decimals=4)"
   ]
  },
  {
   "cell_type": "markdown",
   "metadata": {},
   "source": [
    "# <span style=\"color:orange; font-family:PT Sans Narrow; font-size:1em\"> killing the mlflow & ssh sessions </span>"
   ]
  },
  {
   "cell_type": "code",
   "execution_count": 18,
   "metadata": {},
   "outputs": [],
   "source": [
    "# # closing the child mlflow session\n",
    "# aim1_1.cleanup_mlflow_after_runs()\n",
    "\n",
    "# # closing the ssh session\n",
    "# aim1_1.ssh_session.kill()"
   ]
  }
 ],
 "metadata": {
  "kernelspec": {
   "display_name": "Python 3.8.13 ('paper_miniforge')",
   "language": "python",
   "name": "python3"
  },
  "language_info": {
   "codemirror_mode": {
    "name": "ipython",
    "version": 3
   },
   "file_extension": ".py",
   "mimetype": "text/x-python",
   "name": "python",
   "nbconvert_exporter": "python",
   "pygments_lexer": "ipython3",
   "version": "3.10.6"
  },
  "metadata": {
   "interpreter": {
    "hash": "97f50b47c5db4a373caba7d351ed0bd803d6a9b66b6e99b50d57389022e4f55d"
   }
  },
  "vscode": {
   "interpreter": {
    "hash": "fa8724247638d5e254d9d19df2232ec995d2e23674e16916912bd569c0dd30b6"
   }
  }
 },
 "nbformat": 4,
 "nbformat_minor": 2
}
