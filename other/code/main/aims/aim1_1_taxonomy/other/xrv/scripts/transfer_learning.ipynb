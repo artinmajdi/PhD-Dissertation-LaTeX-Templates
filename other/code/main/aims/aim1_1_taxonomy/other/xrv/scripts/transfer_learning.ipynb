{
 "cells": [
  {
   "cell_type": "code",
   "execution_count": 1,
   "id": "856edcf0",
   "metadata": {},
   "outputs": [],
   "source": [
    "%load_ext autoreload\n",
    "%autoreload 2"
   ]
  },
  {
   "cell_type": "code",
   "execution_count": 2,
   "id": "80e34dd3",
   "metadata": {},
   "outputs": [],
   "source": [
    "import os,sys\n",
    "sys.path.insert(0,\"..\")\n",
    "from glob import glob\n",
    "import matplotlib.pyplot as plt\n",
    "import numpy as np\n",
    "import torch\n",
    "import torchvision\n",
    "import pandas as pd\n",
    "import tqdm\n",
    "import sklearn, sklearn.metrics\n",
    "import torchxrayvision as xrv\n",
    "from main.aims.aim1_1_taxonomy.utils_taxonomy import reading_user_input_arguments,AIM1_1_TorchXrayVision, LoadModelXRV, LoadChestXrayDatasets, Hierarchy"
   ]
  },
  {
   "cell_type": "code",
   "execution_count": 4,
   "id": "032df440",
   "metadata": {},
   "outputs": [
    {
     "name": "stdout",
     "output_type": "stream",
     "text": [
      "{'Aortic Atheromatosis', 'Air Trapping', 'Support Devices', 'Granuloma', 'Bronchiectasis', 'Hilar Enlargement', 'Aortic Elongation', 'Flattened Diaphragm', 'Scoliosis', 'Tuberculosis', 'Hemidiaphragm Elevation', 'Costophrenic Angle Blunting', 'Tube'} will be dropped\n",
      "Lung Lesion doesn't exist. Adding nans instead.\n",
      "Lung Opacity doesn't exist. Adding nans instead.\n",
      "Enlarged Cardiomediastinum doesn't exist. Adding nans instead.\n",
      "Parent class: Lung Opacity is not in the dataset\n"
     ]
    }
   ],
   "source": [
    "# Getting the user arguments\n",
    "config = reading_user_input_arguments(jupyter=True)\n",
    "\n",
    "aim1_1 = AIM1_1_TorchXrayVision(config=config, seed=10 )\n",
    "\n",
    "# Loading train/test data as well as the pre-trained model\n",
    "aim1_1.train, aim1_1.test, aim1_1.model = AIM1_1_TorchXrayVision.load_data_and_model(config)"
   ]
  },
  {
   "cell_type": "code",
   "execution_count": 14,
   "id": "1eb7e326",
   "metadata": {},
   "outputs": [
    {
     "name": "stdout",
     "output_type": "stream",
     "text": [
      "Lung Lesion doesn't exist. Adding nans instead.\n",
      "Fracture doesn't exist. Adding nans instead.\n",
      "Lung Opacity doesn't exist. Adding nans instead.\n",
      "Enlarged Cardiomediastinum doesn't exist. Adding nans instead.\n",
      "Parent class: Lung Opacity is not in the dataset\n",
      "Parent class: Enlarged Cardiomediastinum is not in the dataset\n",
      "{'Atelectasis': {0.0: 27311, 1.0: 1557},\n",
      " 'Cardiomegaly': {0.0: 28139, 1.0: 729},\n",
      " 'Consolidation': {0.0: 28484, 1.0: 384},\n",
      " 'Edema': {0.0: 28829, 1.0: 39},\n",
      " 'Effusion': {0.0: 27599, 1.0: 1269},\n",
      " 'Emphysema': {0.0: 28604, 1.0: 264},\n",
      " 'Enlarged Cardiomediastinum': {0.0: 28139, 1.0: 729},\n",
      " 'Fibrosis': {0.0: 28312, 1.0: 556},\n",
      " 'Fracture': {},\n",
      " 'Hernia': {0.0: 28787, 1.0: 81},\n",
      " 'Infiltration': {0.0: 25595, 1.0: 3273},\n",
      " 'Lung Lesion': {},\n",
      " 'Lung Opacity': {0.0: 23951, 1.0: 4917},\n",
      " 'Mass': {0.0: 27655, 1.0: 1213},\n",
      " 'Nodule': {0.0: 27259, 1.0: 1609},\n",
      " 'Pleural_Thickening': {0.0: 28123, 1.0: 745},\n",
      " 'Pneumonia': {0.0: 28693, 1.0: 175},\n",
      " 'Pneumothorax': {0.0: 28625, 1.0: 243}}\n"
     ]
    },
    {
     "data": {
      "text/plain": [
       "SubsetDataset num_samples=28868\n",
       "└ of SubsetDataset num_samples=28868\n",
       "  └ of SubsetDataset num_samples=28868\n",
       "    └ of SubsetDataset num_samples=28868\n",
       "      └ of NIH_Dataset num_samples=28868 views=['PA'] data_aug=None"
      ]
     },
     "execution_count": 14,
     "metadata": {},
     "output_type": "execute_result"
    }
   ],
   "source": [
    "# Getting the user arguments\n",
    "config = reading_user_input_arguments(jupyter=True)\n",
    "\n",
    "DT = LoadChestXrayDatasets(config=config, pathologies_in_model=aim1_1.model.pathologies)\n",
    "DT.load()\n",
    "\n",
    "DT.d_data"
   ]
  },
  {
   "cell_type": "code",
   "execution_count": null,
   "id": "0f104aaa",
   "metadata": {},
   "outputs": [],
   "source": [
    "aim1_1.model.classifier\n"
   ]
  },
  {
   "cell_type": "code",
   "execution_count": null,
   "id": "67b3cfd1",
   "metadata": {},
   "outputs": [],
   "source": [
    "# Use XRV transforms to crop and resize the images\n",
    "transforms = torchvision.transforms.Compose([xrv.datasets.XRayCenterCrop(),\n",
    "                                             xrv.datasets.XRayResizer(224)])\n",
    "\n",
    "# Load Google dataset and PyTorch dataloader\n",
    "dataset = xrv.datasets.NIH_Google_Dataset(imgpath=\"/Users/ieee8023/Datasets/NIH/images-224\",\n",
    "                                          transform=transforms)\n",
    "dataloader = torch.utils.data.DataLoader(dataset, batch_size=8, shuffle=True)\n",
    "\n",
    "# Load pre-trained model and erase classifier\n",
    "model = xrv.models.DenseNet(weights=\"densenet121-res224-all\")\n",
    "model.op_threshs = None # prevent pre-trained model calibration\n",
    "model.classifier = torch.nn.Linear(1024,1) # reinitialize classifier\n",
    "\n",
    "optimizer = torch.optim.Adam(model.classifier.parameters()) # only train classifier\n",
    "criterion = torch.nn.BCEWithLogitsLoss()\n",
    "\n"
   ]
  },
  {
   "cell_type": "code",
   "execution_count": null,
   "id": "47700846",
   "metadata": {},
   "outputs": [],
   "source": []
  },
  {
   "cell_type": "code",
   "execution_count": null,
   "id": "f1e4309e",
   "metadata": {},
   "outputs": [],
   "source": []
  },
  {
   "cell_type": "code",
   "execution_count": null,
   "id": "4ad5cc0c",
   "metadata": {},
   "outputs": [],
   "source": []
  },
  {
   "cell_type": "code",
   "execution_count": null,
   "id": "1d524194",
   "metadata": {},
   "outputs": [],
   "source": [
    "# training loop (can run on cpu)\n",
    "for i, batch in enumerate(dataloader):\n",
    "    if i > 20: break\n",
    "    outputs = model(batch[\"img\"])\n",
    "    targets = batch[\"lab\"][:, dataset.pathologies.index(\"Lung Opacity\"), None]\n",
    "    loss = criterion(outputs, targets)\n",
    "    print(i, loss.detach().cpu().numpy())\n",
    "    loss.backward()\n",
    "    optimizer.step()"
   ]
  },
  {
   "cell_type": "code",
   "execution_count": null,
   "id": "64107240",
   "metadata": {},
   "outputs": [],
   "source": []
  },
  {
   "cell_type": "code",
   "execution_count": null,
   "id": "2c0e5e85",
   "metadata": {},
   "outputs": [],
   "source": [
    "sample = dataset[0]"
   ]
  },
  {
   "cell_type": "code",
   "execution_count": null,
   "id": "cc36469d",
   "metadata": {},
   "outputs": [],
   "source": [
    "out = model(torch.from_numpy(sample[\"img\"]).unsqueeze(0))\n",
    "out = torch.sigmoid(out)"
   ]
  },
  {
   "cell_type": "code",
   "execution_count": null,
   "id": "140e37e0",
   "metadata": {},
   "outputs": [],
   "source": [
    "out"
   ]
  },
  {
   "cell_type": "code",
   "execution_count": null,
   "id": "f3eb3cf6",
   "metadata": {},
   "outputs": [],
   "source": [
    "labels = []\n",
    "preds = []\n",
    "with torch.inference_mode():\n",
    "    for i in range(20):\n",
    "        sample = dataset[i]\n",
    "        label = sample[\"lab\"][dataset.pathologies.index(\"Lung Opacity\")]\n",
    "        labels.append(label)\n",
    "        pred = model(torch.from_numpy(sample[\"img\"]).unsqueeze(0))\n",
    "        pred = torch.sigmoid(pred).detach().numpy()[0][0]\n",
    "        preds.append(pred)\n",
    "        print(label, pred)"
   ]
  },
  {
   "cell_type": "code",
   "execution_count": null,
   "id": "c9b19bed",
   "metadata": {},
   "outputs": [],
   "source": [
    "sklearn.metrics.roc_auc_score(labels, preds)"
   ]
  },
  {
   "cell_type": "code",
   "execution_count": null,
   "id": "f99a6c8c",
   "metadata": {},
   "outputs": [],
   "source": []
  },
  {
   "cell_type": "code",
   "execution_count": null,
   "id": "051afa80",
   "metadata": {},
   "outputs": [],
   "source": []
  }
 ],
 "metadata": {
  "kernelspec": {
   "display_name": "main",
   "language": "python",
   "name": "python3"
  },
  "language_info": {
   "codemirror_mode": {
    "name": "ipython",
    "version": 3
   },
   "file_extension": ".py",
   "mimetype": "text/x-python",
   "name": "python",
   "nbconvert_exporter": "python",
   "pygments_lexer": "ipython3",
   "version": "3.10.6"
  },
  "vscode": {
   "interpreter": {
    "hash": "c7fa6e65c4f227d77882d4bcc641a942485d93f6372413baaff8defdf53a058c"
   }
  }
 },
 "nbformat": 4,
 "nbformat_minor": 5
}
