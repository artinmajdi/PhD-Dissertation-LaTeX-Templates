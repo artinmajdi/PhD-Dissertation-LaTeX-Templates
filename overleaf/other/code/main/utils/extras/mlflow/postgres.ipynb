{
 "metadata": {
  "language_info": {
   "codemirror_mode": {
    "name": "ipython",
    "version": 3
   },
   "file_extension": ".py",
   "mimetype": "text/x-python",
   "name": "python",
   "nbconvert_exporter": "python",
   "pygments_lexer": "ipython3",
   "version": "3.8.5"
  },
  "orig_nbformat": 2,
  "kernelspec": {
   "name": "python385jvsc74a57bd0dd998473dbd4892f34807bf19aeea9c12a70ba84b1a5d02d168816cec7a7d398",
   "display_name": "Python 3.8.5 64-bit ('mlflow-xray': conda)"
  },
  "metadata": {
   "interpreter": {
    "hash": "dd998473dbd4892f34807bf19aeea9c12a70ba84b1a5d02d168816cec7a7d398"
   }
  }
 },
 "nbformat": 4,
 "nbformat_minor": 2,
 "cells": [
  {
   "source": [
    "source: https://kb.objectrocket.com/postgresql/get-the-column-names-from-a-postgresql-table-with-the-psycopg2-python-adapter-756"
   ],
   "cell_type": "markdown",
   "metadata": {}
  },
  {
   "cell_type": "code",
   "execution_count": 6,
   "metadata": {},
   "outputs": [],
   "source": [
    "%reload_ext autoreload\n",
    "\n",
    "%autoreload 2\n",
    "\n",
    "import os\n",
    "import sys\n",
    "sys.path.append('../')\n",
    "\n",
    "\n",
    "import funcs \n",
    "import load_data\n",
    "import mlflow\n",
    "import numpy as np\n",
    "import pandas as pd\n",
    "import subprocess\n",
    "from time import time\n",
    "import git \n",
    "from psycopg2 import sql, connect\n",
    "from IPython.display import display\n",
    "\n",
    "%reload_ext load_data\n",
    "%reload_ext funcs\n",
    "import warnings\n",
    "warnings.filterwarnings('ignore')"
   ]
  },
  {
   "source": [
    "## ssh tunneling"
   ],
   "cell_type": "markdown",
   "metadata": {}
  },
  {
   "cell_type": "code",
   "execution_count": 7,
   "metadata": {},
   "outputs": [],
   "source": [
    "\n",
    "command = 'ssh -N -L 5000:localhost:5432 artinmajdi@data7-db1.cyverse.org &'\n",
    "ssh_session = subprocess.Popen('exec ' + command, stdout=subprocess.PIPE, shell=True)"
   ]
  },
  {
   "source": [
    "## Connecting to the server"
   ],
   "cell_type": "markdown",
   "metadata": {}
  },
  {
   "cell_type": "code",
   "execution_count": 8,
   "metadata": {},
   "outputs": [
    {
     "output_type": "stream",
     "name": "stdout",
     "text": [
      "psycopg2 connection: <connection object at 0x7fdfccc88630; dsn: 'user=artinmajdi password=xxx dbname=chest_db host=localhost port=5000', closed: 0>\n"
     ]
    }
   ],
   "source": [
    "db_name = \"chest_db\"\n",
    "\n",
    "try:\n",
    "    # declare a new PostgreSQL connection object\n",
    "    conn = connect(\n",
    "        dbname = db_name,\n",
    "        user = \"artinmajdi\",\n",
    "        host = \"localhost\",\n",
    "        password = \"1234\",\n",
    "        port=5000\n",
    "    )\n",
    "\n",
    "    # print the connection if successful\n",
    "    print (\"psycopg2 connection:\", conn)\n",
    "\n",
    "except Exception as err:\n",
    "    print (\"psycopg2 connect() ERROR:\", err)\n",
    "    conn = None\n"
   ]
  },
  {
   "source": [
    "## Execute the SQL object using the psycopg2 cursor object\n",
    "\n",
    "The following segment of code passes the psycopg2.sql.SQL object to the cursor’s execute() method. This stores the data inside of the cursor. Then, the cursor’s fetchall() method call is used to have it return a list of the column names:"
   ],
   "cell_type": "markdown",
   "metadata": {}
  },
  {
   "cell_type": "code",
   "execution_count": 9,
   "metadata": {},
   "outputs": [],
   "source": [
    "# define a function that gets the column names from a PostgreSQL table\n",
    "def get_columns_names(table):\n",
    "\n",
    "    # declare an empty list for the column names\n",
    "    columns = []\n",
    "\n",
    "    # declare cursor objects from the connection    \n",
    "    col_cursor = conn.cursor()\n",
    "\n",
    "    # concatenate string for query to get column names\n",
    "    # SELECT column_name FROM INFORMATION_SCHEMA.COLUMNS WHERE table_name = 'some_table';\n",
    "    col_names_str = \"SELECT column_name FROM INFORMATION_SCHEMA.COLUMNS WHERE \"\n",
    "    col_names_str += \"table_name = '{}';\".format( table )\n",
    "\n",
    "    # print the SQL string\n",
    "    print (\"\\ncol_names_str:\", col_names_str)\n",
    "\n",
    "    try:\n",
    "        sql_object = sql.SQL(\n",
    "            # pass SQL statement to sql.SQL() method\n",
    "            col_names_str\n",
    "        ).format(\n",
    "            # pass the identifier to the Identifier() method\n",
    "            sql.Identifier( table )\n",
    "        )\n",
    "\n",
    "        # execute the SQL string to get list with col names in a tuple\n",
    "        col_cursor.execute( sql_object )\n",
    "\n",
    "        # get the tuple element from the liast\n",
    "        col_names = ( col_cursor.fetchall() )\n",
    "\n",
    "        # print list of tuples with column names\n",
    "        print (\"\\ncol_names:\", col_names)\n",
    "\n",
    "        # iterate list of tuples and grab first element\n",
    "        for tup in col_names:\n",
    "\n",
    "            # append the col name string to the list\n",
    "            columns += [ tup[0] ]\n",
    "\n",
    "        # close the cursor object to prevent memory leaks\n",
    "        col_cursor.close()\n",
    "\n",
    "    except Exception as err:\n",
    "        print (\"get_columns_names ERROR:\", err)\n",
    "\n",
    "    # return the list of column names\n",
    "    return columns"
   ]
  },
  {
   "cell_type": "code",
   "execution_count": 24,
   "metadata": {},
   "outputs": [
    {
     "output_type": "stream",
     "name": "stdout",
     "text": [
      "\ncol_names_str: SELECT column_name FROM INFORMATION_SCHEMA.COLUMNS WHERE table_name = 'parameters';\n\ncol_names: [('specific_catalog',), ('specific_schema',), ('specific_name',), ('ordinal_position',), ('parameter_mode',), ('is_result',), ('as_locator',), ('parameter_name',), ('data_type',), ('character_maximum_length',), ('character_octet_length',), ('character_set_catalog',), ('character_set_schema',), ('character_set_name',), ('collation_catalog',), ('collation_schema',), ('collation_name',), ('numeric_precision',), ('numeric_precision_radix',), ('numeric_scale',), ('datetime_precision',), ('interval_type',), ('interval_precision',), ('udt_catalog',), ('udt_schema',), ('udt_name',), ('scope_catalog',), ('scope_schema',), ('scope_name',), ('maximum_cardinality',), ('dtd_identifier',), ('parameter_default',)]\n"
     ]
    },
    {
     "output_type": "display_data",
     "data": {
      "text/plain": "                           0\n0           specific_catalog\n1            specific_schema\n2              specific_name\n3           ordinal_position\n4             parameter_mode\n5                  is_result\n6                 as_locator\n7             parameter_name\n8                  data_type\n9   character_maximum_length\n10    character_octet_length\n11     character_set_catalog\n12      character_set_schema\n13        character_set_name\n14         collation_catalog\n15          collation_schema\n16            collation_name\n17         numeric_precision\n18   numeric_precision_radix\n19             numeric_scale\n20        datetime_precision\n21             interval_type\n22        interval_precision\n23               udt_catalog\n24                udt_schema\n25                  udt_name\n26             scope_catalog\n27              scope_schema\n28                scope_name\n29       maximum_cardinality\n30            dtd_identifier\n31         parameter_default",
      "text/html": "<div>\n<style scoped>\n    .dataframe tbody tr th:only-of-type {\n        vertical-align: middle;\n    }\n\n    .dataframe tbody tr th {\n        vertical-align: top;\n    }\n\n    .dataframe thead th {\n        text-align: right;\n    }\n</style>\n<table border=\"1\" class=\"dataframe\">\n  <thead>\n    <tr style=\"text-align: right;\">\n      <th></th>\n      <th>0</th>\n    </tr>\n  </thead>\n  <tbody>\n    <tr>\n      <th>0</th>\n      <td>specific_catalog</td>\n    </tr>\n    <tr>\n      <th>1</th>\n      <td>specific_schema</td>\n    </tr>\n    <tr>\n      <th>2</th>\n      <td>specific_name</td>\n    </tr>\n    <tr>\n      <th>3</th>\n      <td>ordinal_position</td>\n    </tr>\n    <tr>\n      <th>4</th>\n      <td>parameter_mode</td>\n    </tr>\n    <tr>\n      <th>5</th>\n      <td>is_result</td>\n    </tr>\n    <tr>\n      <th>6</th>\n      <td>as_locator</td>\n    </tr>\n    <tr>\n      <th>7</th>\n      <td>parameter_name</td>\n    </tr>\n    <tr>\n      <th>8</th>\n      <td>data_type</td>\n    </tr>\n    <tr>\n      <th>9</th>\n      <td>character_maximum_length</td>\n    </tr>\n    <tr>\n      <th>10</th>\n      <td>character_octet_length</td>\n    </tr>\n    <tr>\n      <th>11</th>\n      <td>character_set_catalog</td>\n    </tr>\n    <tr>\n      <th>12</th>\n      <td>character_set_schema</td>\n    </tr>\n    <tr>\n      <th>13</th>\n      <td>character_set_name</td>\n    </tr>\n    <tr>\n      <th>14</th>\n      <td>collation_catalog</td>\n    </tr>\n    <tr>\n      <th>15</th>\n      <td>collation_schema</td>\n    </tr>\n    <tr>\n      <th>16</th>\n      <td>collation_name</td>\n    </tr>\n    <tr>\n      <th>17</th>\n      <td>numeric_precision</td>\n    </tr>\n    <tr>\n      <th>18</th>\n      <td>numeric_precision_radix</td>\n    </tr>\n    <tr>\n      <th>19</th>\n      <td>numeric_scale</td>\n    </tr>\n    <tr>\n      <th>20</th>\n      <td>datetime_precision</td>\n    </tr>\n    <tr>\n      <th>21</th>\n      <td>interval_type</td>\n    </tr>\n    <tr>\n      <th>22</th>\n      <td>interval_precision</td>\n    </tr>\n    <tr>\n      <th>23</th>\n      <td>udt_catalog</td>\n    </tr>\n    <tr>\n      <th>24</th>\n      <td>udt_schema</td>\n    </tr>\n    <tr>\n      <th>25</th>\n      <td>udt_name</td>\n    </tr>\n    <tr>\n      <th>26</th>\n      <td>scope_catalog</td>\n    </tr>\n    <tr>\n      <th>27</th>\n      <td>scope_schema</td>\n    </tr>\n    <tr>\n      <th>28</th>\n      <td>scope_name</td>\n    </tr>\n    <tr>\n      <th>29</th>\n      <td>maximum_cardinality</td>\n    </tr>\n    <tr>\n      <th>30</th>\n      <td>dtd_identifier</td>\n    </tr>\n    <tr>\n      <th>31</th>\n      <td>parameter_default</td>\n    </tr>\n  </tbody>\n</table>\n</div>"
     },
     "metadata": {}
    }
   ],
   "source": [
    "table = 'parameters'\n",
    "\n",
    "# if the connection to PostgreSQL is valid\n",
    "if conn != None:\n",
    "\n",
    "    # pass a PostgreSQL string for the table name to the function\n",
    "    columns = get_columns_names(table)\n",
    "\n",
    "    display( pd.DataFrame(columns) )"
   ]
  },
  {
   "cell_type": "code",
   "execution_count": null,
   "metadata": {},
   "outputs": [],
   "source": []
  },
  {
   "cell_type": "code",
   "execution_count": null,
   "metadata": {},
   "outputs": [],
   "source": []
  },
  {
   "source": [
    "## closing the ssh session"
   ],
   "cell_type": "markdown",
   "metadata": {}
  },
  {
   "cell_type": "code",
   "execution_count": null,
   "metadata": {},
   "outputs": [],
   "source": [
    "ssh_session.kill()"
   ]
  }
 ]
}